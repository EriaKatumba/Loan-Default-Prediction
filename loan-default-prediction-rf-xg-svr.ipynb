{
 "cells": [
  {
   "cell_type": "code",
   "execution_count": 1,
   "id": "45d6910c",
   "metadata": {
    "_cell_guid": "b1076dfc-b9ad-4769-8c92-a6c4dae69d19",
    "_uuid": "8f2839f25d086af736a60e9eeb907d3b93b6e0e5",
    "execution": {
     "iopub.execute_input": "2022-05-16T10:01:10.651744Z",
     "iopub.status.busy": "2022-05-16T10:01:10.651163Z",
     "iopub.status.idle": "2022-05-16T10:01:10.670257Z",
     "shell.execute_reply": "2022-05-16T10:01:10.669006Z"
    },
    "papermill": {
     "duration": 0.108094,
     "end_time": "2022-05-16T10:01:10.674171",
     "exception": false,
     "start_time": "2022-05-16T10:01:10.566077",
     "status": "completed"
    },
    "tags": []
   },
   "outputs": [
    {
     "name": "stdout",
     "output_type": "stream",
     "text": [
      "/kaggle/input/loan-default-prediction/train_v2.csv.zip\n",
      "/kaggle/input/loan-default-prediction/sampleSubmission.csv\n",
      "/kaggle/input/loan-default-prediction/test_v2.csv.zip\n"
     ]
    }
   ],
   "source": [
    "import numpy as np # linear algebra\n",
    "import pandas as pd # data processing, CSV file I/O (e.g. pd.read_csv)\n",
    "\n",
    "# Input data files are available in the read-only \"../input/\" directory\n",
    "# For example, running this (by clicking run or pressing Shift+Enter) will list all files under the input directory\n",
    "\n",
    "import os\n",
    "for dirname, _, filenames in os.walk('/kaggle/input'):\n",
    "    for filename in filenames:\n",
    "        print(os.path.join(dirname, filename))\n",
    "\n",
    "# You can write up to 20GB to the current directory (/kaggle/working/) that gets preserved as output when you create a version using \"Save & Run All\" \n",
    "# You can also write temporary files to /kaggle/temp/, but they won't be saved outside of the current session"
   ]
  },
  {
   "cell_type": "markdown",
   "id": "c5b8785f",
   "metadata": {
    "papermill": {
     "duration": 0.083901,
     "end_time": "2022-05-16T10:01:10.837924",
     "exception": false,
     "start_time": "2022-05-16T10:01:10.754023",
     "status": "completed"
    },
    "tags": []
   },
   "source": [
    "**Disclamer:**\n",
    "\n",
    "The entire notebook is built based on the 2nd place solution, please refer to Github for the original solution: https://github.com/freedomljc/Loan_Default_Prediction\n",
    "\n",
    "I have modified the predictive models for faster training time due to the original models consume extreme long time (GBR), in exchange it result in poorer public score 0.51714\n",
    "\n",
    "Kindly upvote if you find it useful :)"
   ]
  },
  {
   "cell_type": "markdown",
   "id": "314fcdca",
   "metadata": {
    "papermill": {
     "duration": 0.076817,
     "end_time": "2022-05-16T10:01:10.990226",
     "exception": false,
     "start_time": "2022-05-16T10:01:10.913409",
     "status": "completed"
    },
    "tags": []
   },
   "source": [
    "# Import Library"
   ]
  },
  {
   "cell_type": "code",
   "execution_count": 2,
   "id": "03a34ac1",
   "metadata": {
    "execution": {
     "iopub.execute_input": "2022-05-16T10:01:11.143449Z",
     "iopub.status.busy": "2022-05-16T10:01:11.143110Z",
     "iopub.status.idle": "2022-05-16T10:01:12.789197Z",
     "shell.execute_reply": "2022-05-16T10:01:12.788144Z"
    },
    "papermill": {
     "duration": 1.72633,
     "end_time": "2022-05-16T10:01:12.792188",
     "exception": false,
     "start_time": "2022-05-16T10:01:11.065858",
     "status": "completed"
    },
    "tags": []
   },
   "outputs": [],
   "source": [
    "import re\n",
    "import math\n",
    "import collections\n",
    "import numpy as np\n",
    "import time\n",
    "import operator\n",
    "from scipy.io import mmread, mmwrite\n",
    "from random import randint\n",
    "#from sklearn import cross_validation\n",
    "from sklearn import linear_model\n",
    "from sklearn.model_selection import GridSearchCV\n",
    "#from sklearn import preprocessing as pp\n",
    "from sklearn.svm import SVR\n",
    "from sklearn.ensemble import GradientBoostingRegressor, GradientBoostingClassifier\n",
    "from sklearn.ensemble import  RandomForestRegressor, RandomForestClassifier\n",
    "from sklearn.ensemble import ExtraTreesRegressor\n",
    "#from sklearn.decomposition import ProbabilisticPCA, KernelPCA\n",
    "from sklearn.decomposition import PCA, KernelPCA\n",
    "from sklearn.decomposition import NMF\n",
    "from sklearn.pipeline import Pipeline\n",
    "from sklearn.svm import LinearSVC\n",
    "from sklearn.linear_model import LogisticRegression, Ridge, Lasso, ElasticNet\n",
    "import scipy.stats as stats\n",
    "from sklearn import tree\n",
    "from sklearn.feature_selection import f_regression\n",
    "from sklearn.metrics import precision_recall_curve\n",
    "from sklearn.metrics import auc, f1_score\n",
    "#from sklearn.gaussian_process import GaussianProcess\n",
    "#import features -- no required as it is used to import variable from Github py file\n",
    "\n",
    "# working directory\n",
    "dir = '.'\n",
    "label_index = 770"
   ]
  },
  {
   "cell_type": "code",
   "execution_count": 3,
   "id": "76c77108",
   "metadata": {
    "execution": {
     "iopub.execute_input": "2022-05-16T10:01:12.945059Z",
     "iopub.status.busy": "2022-05-16T10:01:12.944678Z",
     "iopub.status.idle": "2022-05-16T10:01:12.950313Z",
     "shell.execute_reply": "2022-05-16T10:01:12.949017Z"
    },
    "papermill": {
     "duration": 0.085593,
     "end_time": "2022-05-16T10:01:12.952776",
     "exception": false,
     "start_time": "2022-05-16T10:01:12.867183",
     "status": "completed"
    },
    "tags": []
   },
   "outputs": [],
   "source": [
    "pd.set_option('display.max_rows', 500)"
   ]
  },
  {
   "cell_type": "code",
   "execution_count": 4,
   "id": "69cbb0d7",
   "metadata": {
    "execution": {
     "iopub.execute_input": "2022-05-16T10:01:13.107198Z",
     "iopub.status.busy": "2022-05-16T10:01:13.106866Z",
     "iopub.status.idle": "2022-05-16T10:01:36.589835Z",
     "shell.execute_reply": "2022-05-16T10:01:36.588855Z"
    },
    "papermill": {
     "duration": 23.565885,
     "end_time": "2022-05-16T10:01:36.593166",
     "exception": false,
     "start_time": "2022-05-16T10:01:13.027281",
     "status": "completed"
    },
    "tags": []
   },
   "outputs": [
    {
     "name": "stderr",
     "output_type": "stream",
     "text": [
      "/opt/conda/lib/python3.7/site-packages/IPython/core/interactiveshell.py:3524: DtypeWarning: Columns (135,204,274,417) have mixed types.Specify dtype option on import or set low_memory=False.\n",
      "  exec(code_obj, self.user_global_ns, self.user_ns)\n"
     ]
    },
    {
     "data": {
      "text/html": [
       "<div>\n",
       "<style scoped>\n",
       "    .dataframe tbody tr th:only-of-type {\n",
       "        vertical-align: middle;\n",
       "    }\n",
       "\n",
       "    .dataframe tbody tr th {\n",
       "        vertical-align: top;\n",
       "    }\n",
       "\n",
       "    .dataframe thead th {\n",
       "        text-align: right;\n",
       "    }\n",
       "</style>\n",
       "<table border=\"1\" class=\"dataframe\">\n",
       "  <thead>\n",
       "    <tr style=\"text-align: right;\">\n",
       "      <th></th>\n",
       "      <th>id</th>\n",
       "      <th>f1</th>\n",
       "      <th>f2</th>\n",
       "      <th>f3</th>\n",
       "      <th>f4</th>\n",
       "      <th>f5</th>\n",
       "      <th>f6</th>\n",
       "      <th>f7</th>\n",
       "      <th>f8</th>\n",
       "      <th>f9</th>\n",
       "      <th>...</th>\n",
       "      <th>f770</th>\n",
       "      <th>f771</th>\n",
       "      <th>f772</th>\n",
       "      <th>f773</th>\n",
       "      <th>f774</th>\n",
       "      <th>f775</th>\n",
       "      <th>f776</th>\n",
       "      <th>f777</th>\n",
       "      <th>f778</th>\n",
       "      <th>loss</th>\n",
       "    </tr>\n",
       "  </thead>\n",
       "  <tbody>\n",
       "    <tr>\n",
       "      <th>0</th>\n",
       "      <td>1</td>\n",
       "      <td>126</td>\n",
       "      <td>10</td>\n",
       "      <td>0.686842</td>\n",
       "      <td>1100</td>\n",
       "      <td>3</td>\n",
       "      <td>13699</td>\n",
       "      <td>7201.0</td>\n",
       "      <td>4949.0</td>\n",
       "      <td>126.75</td>\n",
       "      <td>...</td>\n",
       "      <td>5</td>\n",
       "      <td>2.14</td>\n",
       "      <td>-1.54</td>\n",
       "      <td>1.18</td>\n",
       "      <td>0.1833</td>\n",
       "      <td>0.7873</td>\n",
       "      <td>1</td>\n",
       "      <td>0</td>\n",
       "      <td>5</td>\n",
       "      <td>0</td>\n",
       "    </tr>\n",
       "    <tr>\n",
       "      <th>1</th>\n",
       "      <td>2</td>\n",
       "      <td>121</td>\n",
       "      <td>10</td>\n",
       "      <td>0.782776</td>\n",
       "      <td>1100</td>\n",
       "      <td>3</td>\n",
       "      <td>84645</td>\n",
       "      <td>240.0</td>\n",
       "      <td>1625.0</td>\n",
       "      <td>123.52</td>\n",
       "      <td>...</td>\n",
       "      <td>6</td>\n",
       "      <td>0.54</td>\n",
       "      <td>-0.24</td>\n",
       "      <td>0.13</td>\n",
       "      <td>0.1926</td>\n",
       "      <td>-0.6787</td>\n",
       "      <td>1</td>\n",
       "      <td>0</td>\n",
       "      <td>5</td>\n",
       "      <td>0</td>\n",
       "    </tr>\n",
       "    <tr>\n",
       "      <th>2</th>\n",
       "      <td>3</td>\n",
       "      <td>126</td>\n",
       "      <td>10</td>\n",
       "      <td>0.500080</td>\n",
       "      <td>1100</td>\n",
       "      <td>3</td>\n",
       "      <td>83607</td>\n",
       "      <td>1800.0</td>\n",
       "      <td>1527.0</td>\n",
       "      <td>127.76</td>\n",
       "      <td>...</td>\n",
       "      <td>13</td>\n",
       "      <td>2.89</td>\n",
       "      <td>-1.73</td>\n",
       "      <td>1.04</td>\n",
       "      <td>0.2521</td>\n",
       "      <td>0.7258</td>\n",
       "      <td>1</td>\n",
       "      <td>0</td>\n",
       "      <td>5</td>\n",
       "      <td>0</td>\n",
       "    </tr>\n",
       "    <tr>\n",
       "      <th>3</th>\n",
       "      <td>4</td>\n",
       "      <td>134</td>\n",
       "      <td>10</td>\n",
       "      <td>0.439874</td>\n",
       "      <td>1100</td>\n",
       "      <td>3</td>\n",
       "      <td>82642</td>\n",
       "      <td>7542.0</td>\n",
       "      <td>1730.0</td>\n",
       "      <td>132.94</td>\n",
       "      <td>...</td>\n",
       "      <td>4</td>\n",
       "      <td>1.29</td>\n",
       "      <td>-0.89</td>\n",
       "      <td>0.66</td>\n",
       "      <td>0.2498</td>\n",
       "      <td>0.7119</td>\n",
       "      <td>1</td>\n",
       "      <td>0</td>\n",
       "      <td>5</td>\n",
       "      <td>0</td>\n",
       "    </tr>\n",
       "    <tr>\n",
       "      <th>4</th>\n",
       "      <td>5</td>\n",
       "      <td>109</td>\n",
       "      <td>9</td>\n",
       "      <td>0.502749</td>\n",
       "      <td>2900</td>\n",
       "      <td>4</td>\n",
       "      <td>79124</td>\n",
       "      <td>89.0</td>\n",
       "      <td>491.0</td>\n",
       "      <td>122.72</td>\n",
       "      <td>...</td>\n",
       "      <td>26</td>\n",
       "      <td>6.11</td>\n",
       "      <td>-3.82</td>\n",
       "      <td>2.51</td>\n",
       "      <td>0.2282</td>\n",
       "      <td>-0.5399</td>\n",
       "      <td>0</td>\n",
       "      <td>0</td>\n",
       "      <td>5</td>\n",
       "      <td>0</td>\n",
       "    </tr>\n",
       "  </tbody>\n",
       "</table>\n",
       "<p>5 rows × 771 columns</p>\n",
       "</div>"
      ],
      "text/plain": [
       "   id   f1  f2        f3    f4  f5     f6      f7      f8      f9  ...  f770  \\\n",
       "0   1  126  10  0.686842  1100   3  13699  7201.0  4949.0  126.75  ...     5   \n",
       "1   2  121  10  0.782776  1100   3  84645   240.0  1625.0  123.52  ...     6   \n",
       "2   3  126  10  0.500080  1100   3  83607  1800.0  1527.0  127.76  ...    13   \n",
       "3   4  134  10  0.439874  1100   3  82642  7542.0  1730.0  132.94  ...     4   \n",
       "4   5  109   9  0.502749  2900   4  79124    89.0   491.0  122.72  ...    26   \n",
       "\n",
       "   f771  f772  f773    f774    f775  f776  f777  f778  loss  \n",
       "0  2.14 -1.54  1.18  0.1833  0.7873     1     0     5     0  \n",
       "1  0.54 -0.24  0.13  0.1926 -0.6787     1     0     5     0  \n",
       "2  2.89 -1.73  1.04  0.2521  0.7258     1     0     5     0  \n",
       "3  1.29 -0.89  0.66  0.2498  0.7119     1     0     5     0  \n",
       "4  6.11 -3.82  2.51  0.2282 -0.5399     0     0     5     0  \n",
       "\n",
       "[5 rows x 771 columns]"
      ]
     },
     "execution_count": 4,
     "metadata": {},
     "output_type": "execute_result"
    }
   ],
   "source": [
    "train_fs = pd.read_csv(\"../input/loan-default-prediction/train_v2.csv.zip\", delimiter=',')\n",
    "train_fs.head()"
   ]
  },
  {
   "cell_type": "code",
   "execution_count": 5,
   "id": "5a468a50",
   "metadata": {
    "execution": {
     "iopub.execute_input": "2022-05-16T10:01:36.747146Z",
     "iopub.status.busy": "2022-05-16T10:01:36.746828Z",
     "iopub.status.idle": "2022-05-16T10:01:36.752299Z",
     "shell.execute_reply": "2022-05-16T10:01:36.751654Z"
    },
    "papermill": {
     "duration": 0.086293,
     "end_time": "2022-05-16T10:01:36.754130",
     "exception": false,
     "start_time": "2022-05-16T10:01:36.667837",
     "status": "completed"
    },
    "tags": []
   },
   "outputs": [
    {
     "data": {
      "text/plain": [
       "(105471, 771)"
      ]
     },
     "execution_count": 5,
     "metadata": {},
     "output_type": "execute_result"
    }
   ],
   "source": [
    "train_fs.shape"
   ]
  },
  {
   "cell_type": "code",
   "execution_count": 6,
   "id": "2e7d5a8d",
   "metadata": {
    "execution": {
     "iopub.execute_input": "2022-05-16T10:01:36.904749Z",
     "iopub.status.busy": "2022-05-16T10:01:36.904121Z",
     "iopub.status.idle": "2022-05-16T10:02:25.672142Z",
     "shell.execute_reply": "2022-05-16T10:02:25.671176Z"
    },
    "papermill": {
     "duration": 48.845927,
     "end_time": "2022-05-16T10:02:25.674295",
     "exception": false,
     "start_time": "2022-05-16T10:01:36.828368",
     "status": "completed"
    },
    "tags": []
   },
   "outputs": [
    {
     "name": "stderr",
     "output_type": "stream",
     "text": [
      "/opt/conda/lib/python3.7/site-packages/IPython/core/interactiveshell.py:3524: DtypeWarning: Columns (417) have mixed types.Specify dtype option on import or set low_memory=False.\n",
      "  exec(code_obj, self.user_global_ns, self.user_ns)\n"
     ]
    },
    {
     "data": {
      "text/html": [
       "<div>\n",
       "<style scoped>\n",
       "    .dataframe tbody tr th:only-of-type {\n",
       "        vertical-align: middle;\n",
       "    }\n",
       "\n",
       "    .dataframe tbody tr th {\n",
       "        vertical-align: top;\n",
       "    }\n",
       "\n",
       "    .dataframe thead th {\n",
       "        text-align: right;\n",
       "    }\n",
       "</style>\n",
       "<table border=\"1\" class=\"dataframe\">\n",
       "  <thead>\n",
       "    <tr style=\"text-align: right;\">\n",
       "      <th></th>\n",
       "      <th>id</th>\n",
       "      <th>f1</th>\n",
       "      <th>f2</th>\n",
       "      <th>f3</th>\n",
       "      <th>f4</th>\n",
       "      <th>f5</th>\n",
       "      <th>f6</th>\n",
       "      <th>f7</th>\n",
       "      <th>f8</th>\n",
       "      <th>f9</th>\n",
       "      <th>...</th>\n",
       "      <th>f769</th>\n",
       "      <th>f770</th>\n",
       "      <th>f771</th>\n",
       "      <th>f772</th>\n",
       "      <th>f773</th>\n",
       "      <th>f774</th>\n",
       "      <th>f775</th>\n",
       "      <th>f776</th>\n",
       "      <th>f777</th>\n",
       "      <th>f778</th>\n",
       "    </tr>\n",
       "  </thead>\n",
       "  <tbody>\n",
       "    <tr>\n",
       "      <th>0</th>\n",
       "      <td>105472</td>\n",
       "      <td>147</td>\n",
       "      <td>6</td>\n",
       "      <td>0.487058</td>\n",
       "      <td>1100</td>\n",
       "      <td>17.0</td>\n",
       "      <td>75506</td>\n",
       "      <td>964.0</td>\n",
       "      <td>12686.0</td>\n",
       "      <td>152.63</td>\n",
       "      <td>...</td>\n",
       "      <td>-8.71</td>\n",
       "      <td>19</td>\n",
       "      <td>3.30</td>\n",
       "      <td>-9.37</td>\n",
       "      <td>0.50</td>\n",
       "      <td>0.0539</td>\n",
       "      <td>-1.0733</td>\n",
       "      <td>0</td>\n",
       "      <td>1</td>\n",
       "      <td>1079</td>\n",
       "    </tr>\n",
       "    <tr>\n",
       "      <th>1</th>\n",
       "      <td>105473</td>\n",
       "      <td>156</td>\n",
       "      <td>6</td>\n",
       "      <td>0.728518</td>\n",
       "      <td>5400</td>\n",
       "      <td>3.0</td>\n",
       "      <td>79754</td>\n",
       "      <td>1455.0</td>\n",
       "      <td>4803.0</td>\n",
       "      <td>153.95</td>\n",
       "      <td>...</td>\n",
       "      <td>-13.26</td>\n",
       "      <td>24</td>\n",
       "      <td>9.53</td>\n",
       "      <td>-7.55</td>\n",
       "      <td>6.22</td>\n",
       "      <td>0.3030</td>\n",
       "      <td>0.6087</td>\n",
       "      <td>0</td>\n",
       "      <td>1</td>\n",
       "      <td>36</td>\n",
       "    </tr>\n",
       "    <tr>\n",
       "      <th>2</th>\n",
       "      <td>105474</td>\n",
       "      <td>132</td>\n",
       "      <td>9</td>\n",
       "      <td>0.898133</td>\n",
       "      <td>2200</td>\n",
       "      <td>16.0</td>\n",
       "      <td>113</td>\n",
       "      <td>5735.0</td>\n",
       "      <td>2387.0</td>\n",
       "      <td>130.61</td>\n",
       "      <td>...</td>\n",
       "      <td>-4.99</td>\n",
       "      <td>9</td>\n",
       "      <td>3.25</td>\n",
       "      <td>-2.33</td>\n",
       "      <td>1.69</td>\n",
       "      <td>0.2317</td>\n",
       "      <td>0.4184</td>\n",
       "      <td>0</td>\n",
       "      <td>0</td>\n",
       "      <td>393</td>\n",
       "    </tr>\n",
       "    <tr>\n",
       "      <th>3</th>\n",
       "      <td>105475</td>\n",
       "      <td>128</td>\n",
       "      <td>7</td>\n",
       "      <td>0.038411</td>\n",
       "      <td>1300</td>\n",
       "      <td>4.0</td>\n",
       "      <td>3793</td>\n",
       "      <td>4689.0</td>\n",
       "      <td>3469.0</td>\n",
       "      <td>120.50</td>\n",
       "      <td>...</td>\n",
       "      <td>-16.83</td>\n",
       "      <td>11</td>\n",
       "      <td>0.26</td>\n",
       "      <td>-5.31</td>\n",
       "      <td>0.78</td>\n",
       "      <td>0.2826</td>\n",
       "      <td>-0.7711</td>\n",
       "      <td>0</td>\n",
       "      <td>0</td>\n",
       "      <td>394</td>\n",
       "    </tr>\n",
       "    <tr>\n",
       "      <th>4</th>\n",
       "      <td>105476</td>\n",
       "      <td>119</td>\n",
       "      <td>10</td>\n",
       "      <td>0.443620</td>\n",
       "      <td>1300</td>\n",
       "      <td>16.0</td>\n",
       "      <td>13026</td>\n",
       "      <td>2788.0</td>\n",
       "      <td>7438.0</td>\n",
       "      <td>127.00</td>\n",
       "      <td>...</td>\n",
       "      <td>-20.00</td>\n",
       "      <td>10</td>\n",
       "      <td>13.55</td>\n",
       "      <td>-0.61</td>\n",
       "      <td>0.01</td>\n",
       "      <td>0.1815</td>\n",
       "      <td>-1.0843</td>\n",
       "      <td>0</td>\n",
       "      <td>0</td>\n",
       "      <td>23</td>\n",
       "    </tr>\n",
       "  </tbody>\n",
       "</table>\n",
       "<p>5 rows × 770 columns</p>\n",
       "</div>"
      ],
      "text/plain": [
       "       id   f1  f2        f3    f4    f5     f6      f7       f8      f9  ...  \\\n",
       "0  105472  147   6  0.487058  1100  17.0  75506   964.0  12686.0  152.63  ...   \n",
       "1  105473  156   6  0.728518  5400   3.0  79754  1455.0   4803.0  153.95  ...   \n",
       "2  105474  132   9  0.898133  2200  16.0    113  5735.0   2387.0  130.61  ...   \n",
       "3  105475  128   7  0.038411  1300   4.0   3793  4689.0   3469.0  120.50  ...   \n",
       "4  105476  119  10  0.443620  1300  16.0  13026  2788.0   7438.0  127.00  ...   \n",
       "\n",
       "    f769  f770   f771  f772  f773    f774    f775  f776  f777  f778  \n",
       "0  -8.71    19   3.30 -9.37  0.50  0.0539 -1.0733     0     1  1079  \n",
       "1 -13.26    24   9.53 -7.55  6.22  0.3030  0.6087     0     1    36  \n",
       "2  -4.99     9   3.25 -2.33  1.69  0.2317  0.4184     0     0   393  \n",
       "3 -16.83    11   0.26 -5.31  0.78  0.2826 -0.7711     0     0   394  \n",
       "4 -20.00    10  13.55 -0.61  0.01  0.1815 -1.0843     0     0    23  \n",
       "\n",
       "[5 rows x 770 columns]"
      ]
     },
     "execution_count": 6,
     "metadata": {},
     "output_type": "execute_result"
    }
   ],
   "source": [
    "test_fs = pd.read_csv(\"../input/loan-default-prediction/test_v2.csv.zip\", delimiter=',')\n",
    "test_fs.head()"
   ]
  },
  {
   "cell_type": "code",
   "execution_count": 7,
   "id": "b1e5a73d",
   "metadata": {
    "execution": {
     "iopub.execute_input": "2022-05-16T10:02:25.836741Z",
     "iopub.status.busy": "2022-05-16T10:02:25.835678Z",
     "iopub.status.idle": "2022-05-16T10:02:25.843005Z",
     "shell.execute_reply": "2022-05-16T10:02:25.842011Z"
    },
    "papermill": {
     "duration": 0.092833,
     "end_time": "2022-05-16T10:02:25.845169",
     "exception": false,
     "start_time": "2022-05-16T10:02:25.752336",
     "status": "completed"
    },
    "tags": []
   },
   "outputs": [
    {
     "data": {
      "text/plain": [
       "(210944, 770)"
      ]
     },
     "execution_count": 7,
     "metadata": {},
     "output_type": "execute_result"
    }
   ],
   "source": [
    "test_fs.shape"
   ]
  },
  {
   "cell_type": "markdown",
   "id": "9c087a03",
   "metadata": {
    "papermill": {
     "duration": 0.078473,
     "end_time": "2022-05-16T10:02:26.002844",
     "exception": false,
     "start_time": "2022-05-16T10:02:25.924371",
     "status": "completed"
    },
    "tags": []
   },
   "source": [
    "# Data Exploration\n",
    "\n",
    "Ref(Data Processing): https://www.kaggle.com/code/kittiyaneerungon/loan-default-prediction\n",
    "\n",
    "Ref(Feature Engineer & Model): https://github.com/freedomljc/Loan_Default_Prediction"
   ]
  },
  {
   "cell_type": "code",
   "execution_count": 8,
   "id": "3daed353",
   "metadata": {
    "execution": {
     "iopub.execute_input": "2022-05-16T10:02:26.161145Z",
     "iopub.status.busy": "2022-05-16T10:02:26.160455Z",
     "iopub.status.idle": "2022-05-16T10:02:26.582602Z",
     "shell.execute_reply": "2022-05-16T10:02:26.581661Z"
    },
    "papermill": {
     "duration": 0.502265,
     "end_time": "2022-05-16T10:02:26.585044",
     "exception": false,
     "start_time": "2022-05-16T10:02:26.082779",
     "status": "completed"
    },
    "tags": []
   },
   "outputs": [
    {
     "data": {
      "text/html": [
       "<div>\n",
       "<style scoped>\n",
       "    .dataframe tbody tr th:only-of-type {\n",
       "        vertical-align: middle;\n",
       "    }\n",
       "\n",
       "    .dataframe tbody tr th {\n",
       "        vertical-align: top;\n",
       "    }\n",
       "\n",
       "    .dataframe thead th {\n",
       "        text-align: right;\n",
       "    }\n",
       "</style>\n",
       "<table border=\"1\" class=\"dataframe\">\n",
       "  <thead>\n",
       "    <tr style=\"text-align: right;\">\n",
       "      <th></th>\n",
       "      <th>result</th>\n",
       "    </tr>\n",
       "  </thead>\n",
       "  <tbody>\n",
       "    <tr>\n",
       "      <th>f7</th>\n",
       "      <td>182</td>\n",
       "    </tr>\n",
       "    <tr>\n",
       "      <th>f8</th>\n",
       "      <td>101</td>\n",
       "    </tr>\n",
       "    <tr>\n",
       "      <th>f14</th>\n",
       "      <td>100</td>\n",
       "    </tr>\n",
       "    <tr>\n",
       "      <th>f15</th>\n",
       "      <td>48</td>\n",
       "    </tr>\n",
       "    <tr>\n",
       "      <th>f17</th>\n",
       "      <td>159</td>\n",
       "    </tr>\n",
       "    <tr>\n",
       "      <th>...</th>\n",
       "      <td>...</td>\n",
       "    </tr>\n",
       "    <tr>\n",
       "      <th>f762</th>\n",
       "      <td>158</td>\n",
       "    </tr>\n",
       "    <tr>\n",
       "      <th>f763</th>\n",
       "      <td>1840</td>\n",
       "    </tr>\n",
       "    <tr>\n",
       "      <th>f765</th>\n",
       "      <td>1</td>\n",
       "    </tr>\n",
       "    <tr>\n",
       "      <th>f774</th>\n",
       "      <td>1064</td>\n",
       "    </tr>\n",
       "    <tr>\n",
       "      <th>f775</th>\n",
       "      <td>1525</td>\n",
       "    </tr>\n",
       "  </tbody>\n",
       "</table>\n",
       "<p>525 rows × 1 columns</p>\n",
       "</div>"
      ],
      "text/plain": [
       "      result\n",
       "f7       182\n",
       "f8       101\n",
       "f14      100\n",
       "f15       48\n",
       "f17      159\n",
       "...      ...\n",
       "f762     158\n",
       "f763    1840\n",
       "f765       1\n",
       "f774    1064\n",
       "f775    1525\n",
       "\n",
       "[525 rows x 1 columns]"
      ]
     },
     "execution_count": 8,
     "metadata": {},
     "output_type": "execute_result"
    }
   ],
   "source": [
    "nacheck = pd.DataFrame(train_fs.isnull().sum(),columns=['result'])\n",
    "nacheck[nacheck['result']>0]"
   ]
  },
  {
   "cell_type": "code",
   "execution_count": 9,
   "id": "fcc72fa6",
   "metadata": {
    "execution": {
     "iopub.execute_input": "2022-05-16T10:02:26.746057Z",
     "iopub.status.busy": "2022-05-16T10:02:26.744988Z",
     "iopub.status.idle": "2022-05-16T10:02:26.758466Z",
     "shell.execute_reply": "2022-05-16T10:02:26.757685Z"
    },
    "papermill": {
     "duration": 0.098068,
     "end_time": "2022-05-16T10:02:26.760702",
     "exception": false,
     "start_time": "2022-05-16T10:02:26.662634",
     "status": "completed"
    },
    "tags": []
   },
   "outputs": [
    {
     "data": {
      "text/plain": [
       "float64    653\n",
       "int64       99\n",
       "object      19\n",
       "dtype: int64"
      ]
     },
     "execution_count": 9,
     "metadata": {},
     "output_type": "execute_result"
    }
   ],
   "source": [
    "# The number of each data type in the dataframe\n",
    "train_fs.dtypes.value_counts()"
   ]
  },
  {
   "cell_type": "code",
   "execution_count": 10,
   "id": "eaa050c8",
   "metadata": {
    "execution": {
     "iopub.execute_input": "2022-05-16T10:02:26.917503Z",
     "iopub.status.busy": "2022-05-16T10:02:26.916962Z",
     "iopub.status.idle": "2022-05-16T10:02:27.131304Z",
     "shell.execute_reply": "2022-05-16T10:02:27.130214Z"
    },
    "papermill": {
     "duration": 0.296029,
     "end_time": "2022-05-16T10:02:27.134111",
     "exception": false,
     "start_time": "2022-05-16T10:02:26.838082",
     "status": "completed"
    },
    "tags": []
   },
   "outputs": [
    {
     "data": {
      "image/png": "[encoded data removed]",
      "text/plain": [
       "<Figure size 432x288 with 1 Axes>"
      ]
     },
     "metadata": {
      "needs_background": "light"
     },
     "output_type": "display_data"
    }
   ],
   "source": [
    "import matplotlib.pyplot as plt\n",
    "\n",
    "# Loss Distribution\n",
    "fig , ax = plt.subplots()\n",
    "plt.hist(train_fs['loss'], bins = 20, range=(0,100))\n",
    "ax.set_ylim([0,3000])\n",
    "plt.show()"
   ]
  },
  {
   "cell_type": "markdown",
   "id": "b6a13679",
   "metadata": {
    "papermill": {
     "duration": 0.077729,
     "end_time": "2022-05-16T10:02:27.291592",
     "exception": false,
     "start_time": "2022-05-16T10:02:27.213863",
     "status": "completed"
    },
    "tags": []
   },
   "source": [
    "The loss value distritubtion is Right-Skewed\n",
    "\n",
    "For example, a loss of 60 means that only 40 is reimbursed. If the loan did not default, the loss was 0. You are asked to predict the losses for each observation in the test set.\n",
    "\n",
    "Ref:https://www.kaggle.com/competitions/loan-default-prediction/data"
   ]
  },
  {
   "cell_type": "code",
   "execution_count": 11,
   "id": "82cbbe19",
   "metadata": {
    "execution": {
     "iopub.execute_input": "2022-05-16T10:02:27.450456Z",
     "iopub.status.busy": "2022-05-16T10:02:27.450071Z",
     "iopub.status.idle": "2022-05-16T10:02:28.102973Z",
     "shell.execute_reply": "2022-05-16T10:02:28.101998Z"
    },
    "papermill": {
     "duration": 0.736229,
     "end_time": "2022-05-16T10:02:28.105470",
     "exception": false,
     "start_time": "2022-05-16T10:02:27.369241",
     "status": "completed"
    },
    "tags": []
   },
   "outputs": [
    {
     "data": {
      "text/html": [
       "<div>\n",
       "<style scoped>\n",
       "    .dataframe tbody tr th:only-of-type {\n",
       "        vertical-align: middle;\n",
       "    }\n",
       "\n",
       "    .dataframe tbody tr th {\n",
       "        vertical-align: top;\n",
       "    }\n",
       "\n",
       "    .dataframe thead th {\n",
       "        text-align: right;\n",
       "    }\n",
       "</style>\n",
       "<table border=\"1\" class=\"dataframe\">\n",
       "  <thead>\n",
       "    <tr style=\"text-align: right;\">\n",
       "      <th></th>\n",
       "      <th>column_name</th>\n",
       "      <th>% of Missing</th>\n",
       "    </tr>\n",
       "  </thead>\n",
       "  <tbody>\n",
       "    <tr>\n",
       "      <th>463</th>\n",
       "      <td>f662</td>\n",
       "      <td>17.856093</td>\n",
       "    </tr>\n",
       "    <tr>\n",
       "      <th>464</th>\n",
       "      <td>f663</td>\n",
       "      <td>17.856093</td>\n",
       "    </tr>\n",
       "    <tr>\n",
       "      <th>127</th>\n",
       "      <td>f159</td>\n",
       "      <td>17.764125</td>\n",
       "    </tr>\n",
       "    <tr>\n",
       "      <th>128</th>\n",
       "      <td>f160</td>\n",
       "      <td>17.764125</td>\n",
       "    </tr>\n",
       "    <tr>\n",
       "      <th>138</th>\n",
       "      <td>f170</td>\n",
       "      <td>17.461672</td>\n",
       "    </tr>\n",
       "    <tr>\n",
       "      <th>...</th>\n",
       "      <td>...</td>\n",
       "      <td>...</td>\n",
       "    </tr>\n",
       "    <tr>\n",
       "      <th>476</th>\n",
       "      <td>f677</td>\n",
       "      <td>0.000948</td>\n",
       "    </tr>\n",
       "    <tr>\n",
       "      <th>474</th>\n",
       "      <td>f675</td>\n",
       "      <td>0.000948</td>\n",
       "    </tr>\n",
       "    <tr>\n",
       "      <th>522</th>\n",
       "      <td>f765</td>\n",
       "      <td>0.000948</td>\n",
       "    </tr>\n",
       "    <tr>\n",
       "      <th>477</th>\n",
       "      <td>f678</td>\n",
       "      <td>0.000948</td>\n",
       "    </tr>\n",
       "    <tr>\n",
       "      <th>475</th>\n",
       "      <td>f676</td>\n",
       "      <td>0.000948</td>\n",
       "    </tr>\n",
       "  </tbody>\n",
       "</table>\n",
       "<p>525 rows × 2 columns</p>\n",
       "</div>"
      ],
      "text/plain": [
       "    column_name  % of Missing\n",
       "463        f662     17.856093\n",
       "464        f663     17.856093\n",
       "127        f159     17.764125\n",
       "128        f160     17.764125\n",
       "138        f170     17.461672\n",
       "..          ...           ...\n",
       "476        f677      0.000948\n",
       "474        f675      0.000948\n",
       "522        f765      0.000948\n",
       "477        f678      0.000948\n",
       "475        f676      0.000948\n",
       "\n",
       "[525 rows x 2 columns]"
      ]
     },
     "execution_count": 11,
     "metadata": {},
     "output_type": "execute_result"
    }
   ],
   "source": [
    "# Calculate percent of missing in each column\n",
    "col_pct_miss = []\n",
    "for col in train_fs.columns:\n",
    "    percent_miss = np.mean(train_fs[col].isnull())*100\n",
    "    if percent_miss > 0:\n",
    "        col_pct_miss.append([col, percent_miss])\n",
    "    \n",
    "col_pct_miss_df = pd.DataFrame(col_pct_miss, columns = ['column_name','% of Missing']).sort_values(by = '% of Missing', ascending = False)\n",
    "col_pct_miss_df"
   ]
  },
  {
   "cell_type": "code",
   "execution_count": 12,
   "id": "79a41660",
   "metadata": {
    "execution": {
     "iopub.execute_input": "2022-05-16T10:02:28.266718Z",
     "iopub.status.busy": "2022-05-16T10:02:28.266324Z",
     "iopub.status.idle": "2022-05-16T10:02:28.735267Z",
     "shell.execute_reply": "2022-05-16T10:02:28.734259Z"
    },
    "papermill": {
     "duration": 0.553292,
     "end_time": "2022-05-16T10:02:28.737710",
     "exception": false,
     "start_time": "2022-05-16T10:02:28.184418",
     "status": "completed"
    },
    "tags": []
   },
   "outputs": [
    {
     "data": {
      "text/plain": [
       "0    752\n",
       "dtype: int64"
      ]
     },
     "execution_count": 12,
     "metadata": {},
     "output_type": "execute_result"
    }
   ],
   "source": [
    "#Check for infinity value\n",
    "np.isinf(train_fs.select_dtypes(include=['number'])).sum().value_counts()"
   ]
  },
  {
   "cell_type": "code",
   "execution_count": 13,
   "id": "610f098e",
   "metadata": {
    "execution": {
     "iopub.execute_input": "2022-05-16T10:02:28.901601Z",
     "iopub.status.busy": "2022-05-16T10:02:28.901219Z",
     "iopub.status.idle": "2022-05-16T10:02:29.699656Z",
     "shell.execute_reply": "2022-05-16T10:02:29.698752Z"
    },
    "papermill": {
     "duration": 0.883434,
     "end_time": "2022-05-16T10:02:29.702110",
     "exception": false,
     "start_time": "2022-05-16T10:02:28.818676",
     "status": "completed"
    },
    "tags": []
   },
   "outputs": [
    {
     "data": {
      "text/plain": [
       "0    751\n",
       "dtype: int64"
      ]
     },
     "execution_count": 13,
     "metadata": {},
     "output_type": "execute_result"
    }
   ],
   "source": [
    "np.isinf(test_fs.select_dtypes(include=['number'])).sum().value_counts()"
   ]
  },
  {
   "cell_type": "code",
   "execution_count": 14,
   "id": "6c6ba2dc",
   "metadata": {
    "execution": {
     "iopub.execute_input": "2022-05-16T10:02:29.865878Z",
     "iopub.status.busy": "2022-05-16T10:02:29.865154Z",
     "iopub.status.idle": "2022-05-16T10:02:31.533438Z",
     "shell.execute_reply": "2022-05-16T10:02:31.532347Z"
    },
    "papermill": {
     "duration": 1.752791,
     "end_time": "2022-05-16T10:02:31.535947",
     "exception": false,
     "start_time": "2022-05-16T10:02:29.783156",
     "status": "completed"
    },
    "tags": []
   },
   "outputs": [
    {
     "data": {
      "text/plain": [
       "[('loss', 1.0),\n",
       " ('f471', 0.04003485828917942),\n",
       " ('f536', 0.0257082802828102),\n",
       " ('f674', 0.019426270154857695),\n",
       " ('f612', 0.016573365285605837),\n",
       " ('f776', 0.015505606445504232),\n",
       " ('f67', 0.014739667638450879),\n",
       " ('f670', 0.014594672438313944),\n",
       " ('f597', 0.013757525744848424),\n",
       " ('f599', 0.013757525744848424),\n",
       " ('f68', 0.012986695149725648),\n",
       " ('f221', 0.012023809245548264),\n",
       " ('f251', 0.011887234545635518),\n",
       " ('f556', 0.011431116108247841),\n",
       " ('f468', 0.011263763615718058),\n",
       " ('f13', 0.011187686488302541),\n",
       " ('f675', 0.011158112545609328),\n",
       " ('f617', 0.011151818457203606),\n",
       " ('f315', 0.011109597461438947),\n",
       " ('f353', 0.010760517192075911)]"
      ]
     },
     "execution_count": 14,
     "metadata": {},
     "output_type": "execute_result"
    }
   ],
   "source": [
    "#Correlation for numeric columns\n",
    "numer = train_fs.select_dtypes(include=['number']).columns\n",
    "corr_num = {}\n",
    "for col in numer:\n",
    "    corr = train_fs['loss'].corr(train_fs[col])\n",
    "    if not np.isnan(corr):\n",
    "        corr_num[col] = abs(corr)\n",
    "\n",
    "sorted(corr_num.items(), key=operator.itemgetter(1),reverse=True)[:20]"
   ]
  },
  {
   "cell_type": "code",
   "execution_count": 15,
   "id": "78596eee",
   "metadata": {
    "execution": {
     "iopub.execute_input": "2022-05-16T10:02:31.698750Z",
     "iopub.status.busy": "2022-05-16T10:02:31.698253Z",
     "iopub.status.idle": "2022-05-16T10:02:35.274722Z",
     "shell.execute_reply": "2022-05-16T10:02:35.273639Z"
    },
    "papermill": {
     "duration": 3.660626,
     "end_time": "2022-05-16T10:02:35.277937",
     "exception": false,
     "start_time": "2022-05-16T10:02:31.617311",
     "status": "completed"
    },
    "tags": []
   },
   "outputs": [
    {
     "data": {
      "text/plain": [
       "[('f338', 0.005470089757601605),\n",
       " ('f276', 0.005281428714661811),\n",
       " ('f390', 0.004669187751722686),\n",
       " ('f534', 0.0046250922089023155),\n",
       " ('f695', 0.004612471604191748),\n",
       " ('f419', 0.004609759187433855),\n",
       " ('f472', 0.0044119605356509875),\n",
       " ('f207', 0.004039014147828838),\n",
       " ('f627', 0.0038173679493828127),\n",
       " ('f698', 0.0035439404029157435)]"
      ]
     },
     "execution_count": 15,
     "metadata": {},
     "output_type": "execute_result"
    }
   ],
   "source": [
    "#Correlation for categorical columns\n",
    "cat = train_fs.select_dtypes(exclude=['number']).columns\n",
    "corr_cat = {}\n",
    "for col in cat:\n",
    "    corr = train_fs['loss'].corr(train_fs[col].astype('category').cat.codes)\n",
    "    corr_cat[col] = abs(corr)\n",
    "sorted(corr_cat.items(), key=operator.itemgetter(1),reverse=True)[:10]"
   ]
  },
  {
   "cell_type": "markdown",
   "id": "be7e0517",
   "metadata": {
    "papermill": {
     "duration": 0.079177,
     "end_time": "2022-05-16T10:02:35.440905",
     "exception": false,
     "start_time": "2022-05-16T10:02:35.361728",
     "status": "completed"
    },
    "tags": []
   },
   "source": [
    "# Data Preprocessing"
   ]
  },
  {
   "cell_type": "markdown",
   "id": "cffadacb",
   "metadata": {
    "papermill": {
     "duration": 0.081571,
     "end_time": "2022-05-16T10:02:35.604934",
     "exception": false,
     "start_time": "2022-05-16T10:02:35.523363",
     "status": "completed"
    },
    "tags": []
   },
   "source": [
    "## Training data"
   ]
  },
  {
   "cell_type": "code",
   "execution_count": 16,
   "id": "02ee5bae",
   "metadata": {
    "execution": {
     "iopub.execute_input": "2022-05-16T10:02:35.781730Z",
     "iopub.status.busy": "2022-05-16T10:02:35.780692Z",
     "iopub.status.idle": "2022-05-16T10:02:36.821228Z",
     "shell.execute_reply": "2022-05-16T10:02:36.820136Z"
    },
    "papermill": {
     "duration": 1.139366,
     "end_time": "2022-05-16T10:02:36.824536",
     "exception": false,
     "start_time": "2022-05-16T10:02:35.685170",
     "status": "completed"
    },
    "tags": []
   },
   "outputs": [],
   "source": [
    "# Impute missing value in numeric columns with mean \n",
    "numeric_cols = train_fs.select_dtypes(include=['number']).columns.values\n",
    "\n",
    "for col in numeric_cols:\n",
    "    if col in list(col_pct_miss_df.column_name) :\n",
    "        mean = train_fs[col].mean(skipna=True)\n",
    "        train_fs[col] = train_fs[col].fillna(mean)"
   ]
  },
  {
   "cell_type": "code",
   "execution_count": 17,
   "id": "87feefa7",
   "metadata": {
    "execution": {
     "iopub.execute_input": "2022-05-16T10:02:36.993037Z",
     "iopub.status.busy": "2022-05-16T10:02:36.992031Z",
     "iopub.status.idle": "2022-05-16T10:02:37.415340Z",
     "shell.execute_reply": "2022-05-16T10:02:37.414395Z"
    },
    "papermill": {
     "duration": 0.508989,
     "end_time": "2022-05-16T10:02:37.417746",
     "exception": false,
     "start_time": "2022-05-16T10:02:36.908757",
     "status": "completed"
    },
    "tags": []
   },
   "outputs": [
    {
     "data": {
      "text/html": [
       "<div>\n",
       "<style scoped>\n",
       "    .dataframe tbody tr th:only-of-type {\n",
       "        vertical-align: middle;\n",
       "    }\n",
       "\n",
       "    .dataframe tbody tr th {\n",
       "        vertical-align: top;\n",
       "    }\n",
       "\n",
       "    .dataframe thead th {\n",
       "        text-align: right;\n",
       "    }\n",
       "</style>\n",
       "<table border=\"1\" class=\"dataframe\">\n",
       "  <thead>\n",
       "    <tr style=\"text-align: right;\">\n",
       "      <th></th>\n",
       "      <th>result</th>\n",
       "    </tr>\n",
       "  </thead>\n",
       "  <tbody>\n",
       "    <tr>\n",
       "      <th>f137</th>\n",
       "      <td>177</td>\n",
       "    </tr>\n",
       "    <tr>\n",
       "      <th>f138</th>\n",
       "      <td>182</td>\n",
       "    </tr>\n",
       "    <tr>\n",
       "      <th>f206</th>\n",
       "      <td>1291</td>\n",
       "    </tr>\n",
       "    <tr>\n",
       "      <th>f207</th>\n",
       "      <td>1291</td>\n",
       "    </tr>\n",
       "    <tr>\n",
       "      <th>f276</th>\n",
       "      <td>101</td>\n",
       "    </tr>\n",
       "    <tr>\n",
       "      <th>f277</th>\n",
       "      <td>101</td>\n",
       "    </tr>\n",
       "    <tr>\n",
       "      <th>f390</th>\n",
       "      <td>698</td>\n",
       "    </tr>\n",
       "    <tr>\n",
       "      <th>f391</th>\n",
       "      <td>698</td>\n",
       "    </tr>\n",
       "    <tr>\n",
       "      <th>f626</th>\n",
       "      <td>698</td>\n",
       "    </tr>\n",
       "    <tr>\n",
       "      <th>f627</th>\n",
       "      <td>698</td>\n",
       "    </tr>\n",
       "    <tr>\n",
       "      <th>f695</th>\n",
       "      <td>698</td>\n",
       "    </tr>\n",
       "    <tr>\n",
       "      <th>f698</th>\n",
       "      <td>698</td>\n",
       "    </tr>\n",
       "  </tbody>\n",
       "</table>\n",
       "</div>"
      ],
      "text/plain": [
       "      result\n",
       "f137     177\n",
       "f138     182\n",
       "f206    1291\n",
       "f207    1291\n",
       "f276     101\n",
       "f277     101\n",
       "f390     698\n",
       "f391     698\n",
       "f626     698\n",
       "f627     698\n",
       "f695     698\n",
       "f698     698"
      ]
     },
     "execution_count": 17,
     "metadata": {},
     "output_type": "execute_result"
    }
   ],
   "source": [
    "#Remaining columns with missing values is not numeric type\n",
    "nacheck = pd.DataFrame(train_fs.isnull().sum(),columns=['result'])\n",
    "nacheck[nacheck['result']>0]"
   ]
  },
  {
   "cell_type": "code",
   "execution_count": 18,
   "id": "9e8f4a5e",
   "metadata": {
    "execution": {
     "iopub.execute_input": "2022-05-16T10:02:37.586929Z",
     "iopub.status.busy": "2022-05-16T10:02:37.586149Z",
     "iopub.status.idle": "2022-05-16T10:02:37.898172Z",
     "shell.execute_reply": "2022-05-16T10:02:37.896886Z"
    },
    "papermill": {
     "duration": 0.399239,
     "end_time": "2022-05-16T10:02:37.901655",
     "exception": false,
     "start_time": "2022-05-16T10:02:37.502416",
     "status": "completed"
    },
    "tags": []
   },
   "outputs": [],
   "source": [
    "# Impute NA value in object type columns with zero, all categorical data only contain long digi except 'NA'\n",
    "not_numeric_cols = train_fs.select_dtypes(exclude=['number']).columns.values\n",
    "\n",
    "for col in not_numeric_cols:\n",
    "    if col in list(col_pct_miss_df.column_name):\n",
    "#         mode = train_fs[col].mode(dropna=True)[0]\n",
    "        train_fs.loc[train_fs[col]=='NA',col] = 0\n",
    "#         train_fs[col] = train_fs[col].apply(lambda x:1 if x==mode else 0)"
   ]
  },
  {
   "cell_type": "code",
   "execution_count": 19,
   "id": "cb7a60d7",
   "metadata": {
    "execution": {
     "iopub.execute_input": "2022-05-16T10:02:38.070908Z",
     "iopub.status.busy": "2022-05-16T10:02:38.070294Z",
     "iopub.status.idle": "2022-05-16T10:02:39.241888Z",
     "shell.execute_reply": "2022-05-16T10:02:39.240798Z"
    },
    "papermill": {
     "duration": 1.260215,
     "end_time": "2022-05-16T10:02:39.244727",
     "exception": false,
     "start_time": "2022-05-16T10:02:37.984512",
     "status": "completed"
    },
    "tags": []
   },
   "outputs": [
    {
     "data": {
      "text/plain": [
       "float64    672\n",
       "int64       99\n",
       "dtype: int64"
      ]
     },
     "execution_count": 19,
     "metadata": {},
     "output_type": "execute_result"
    }
   ],
   "source": [
    "#Convert all categorical data to float type, convert to type Int64 will throw errors in python\n",
    "for col in cat:\n",
    "    train_fs[col] = train_fs[col].astype('float64')\n",
    "\n",
    "train_fs.dtypes.value_counts()"
   ]
  },
  {
   "cell_type": "code",
   "execution_count": 20,
   "id": "7b09c846",
   "metadata": {
    "execution": {
     "iopub.execute_input": "2022-05-16T10:02:39.414229Z",
     "iopub.status.busy": "2022-05-16T10:02:39.413787Z",
     "iopub.status.idle": "2022-05-16T10:02:39.447175Z",
     "shell.execute_reply": "2022-05-16T10:02:39.445847Z"
    },
    "papermill": {
     "duration": 0.124099,
     "end_time": "2022-05-16T10:02:39.450046",
     "exception": false,
     "start_time": "2022-05-16T10:02:39.325947",
     "status": "completed"
    },
    "tags": []
   },
   "outputs": [],
   "source": [
    "#Fill missing value with mean after conversion of object type data\n",
    "for col in cat:\n",
    "    mean = train_fs[col].mean(skipna=True)\n",
    "    train_fs[col] = train_fs[col].fillna(mean)"
   ]
  },
  {
   "cell_type": "code",
   "execution_count": 21,
   "id": "d969855a",
   "metadata": {
    "execution": {
     "iopub.execute_input": "2022-05-16T10:02:39.621363Z",
     "iopub.status.busy": "2022-05-16T10:02:39.620740Z",
     "iopub.status.idle": "2022-05-16T10:02:39.843923Z",
     "shell.execute_reply": "2022-05-16T10:02:39.842976Z"
    },
    "papermill": {
     "duration": 0.312756,
     "end_time": "2022-05-16T10:02:39.846811",
     "exception": false,
     "start_time": "2022-05-16T10:02:39.534055",
     "status": "completed"
    },
    "tags": []
   },
   "outputs": [
    {
     "data": {
      "text/plain": [
       "0    771\n",
       "dtype: int64"
      ]
     },
     "execution_count": 21,
     "metadata": {},
     "output_type": "execute_result"
    }
   ],
   "source": [
    "# Check missing value\n",
    "train_fs.isnull().sum().value_counts()"
   ]
  },
  {
   "cell_type": "code",
   "execution_count": 22,
   "id": "4c306d0a",
   "metadata": {
    "execution": {
     "iopub.execute_input": "2022-05-16T10:02:40.019588Z",
     "iopub.status.busy": "2022-05-16T10:02:40.018785Z",
     "iopub.status.idle": "2022-05-16T10:02:40.726371Z",
     "shell.execute_reply": "2022-05-16T10:02:40.725310Z"
    },
    "papermill": {
     "duration": 0.79834,
     "end_time": "2022-05-16T10:02:40.728940",
     "exception": false,
     "start_time": "2022-05-16T10:02:39.930600",
     "status": "completed"
    },
    "tags": []
   },
   "outputs": [
    {
     "data": {
      "text/html": [
       "<div>\n",
       "<style scoped>\n",
       "    .dataframe tbody tr th:only-of-type {\n",
       "        vertical-align: middle;\n",
       "    }\n",
       "\n",
       "    .dataframe tbody tr th {\n",
       "        vertical-align: top;\n",
       "    }\n",
       "\n",
       "    .dataframe thead th {\n",
       "        text-align: right;\n",
       "    }\n",
       "</style>\n",
       "<table border=\"1\" class=\"dataframe\">\n",
       "  <thead>\n",
       "    <tr style=\"text-align: right;\">\n",
       "      <th></th>\n",
       "      <th>f1</th>\n",
       "      <th>f2</th>\n",
       "      <th>f3</th>\n",
       "      <th>f4</th>\n",
       "      <th>f5</th>\n",
       "      <th>f6</th>\n",
       "      <th>f7</th>\n",
       "      <th>f8</th>\n",
       "      <th>f9</th>\n",
       "      <th>f10</th>\n",
       "      <th>...</th>\n",
       "      <th>f769</th>\n",
       "      <th>f770</th>\n",
       "      <th>f771</th>\n",
       "      <th>f772</th>\n",
       "      <th>f773</th>\n",
       "      <th>f774</th>\n",
       "      <th>f775</th>\n",
       "      <th>f776</th>\n",
       "      <th>f777</th>\n",
       "      <th>f778</th>\n",
       "    </tr>\n",
       "  </thead>\n",
       "  <tbody>\n",
       "    <tr>\n",
       "      <th>0</th>\n",
       "      <td>126</td>\n",
       "      <td>10</td>\n",
       "      <td>0.686842</td>\n",
       "      <td>1100</td>\n",
       "      <td>3</td>\n",
       "      <td>13699</td>\n",
       "      <td>7201.0</td>\n",
       "      <td>4949.0</td>\n",
       "      <td>126.75</td>\n",
       "      <td>126.03</td>\n",
       "      <td>...</td>\n",
       "      <td>-3.14</td>\n",
       "      <td>5</td>\n",
       "      <td>2.14</td>\n",
       "      <td>-1.54</td>\n",
       "      <td>1.18</td>\n",
       "      <td>0.1833</td>\n",
       "      <td>0.7873</td>\n",
       "      <td>1</td>\n",
       "      <td>0</td>\n",
       "      <td>5</td>\n",
       "    </tr>\n",
       "    <tr>\n",
       "      <th>1</th>\n",
       "      <td>121</td>\n",
       "      <td>10</td>\n",
       "      <td>0.782776</td>\n",
       "      <td>1100</td>\n",
       "      <td>3</td>\n",
       "      <td>84645</td>\n",
       "      <td>240.0</td>\n",
       "      <td>1625.0</td>\n",
       "      <td>123.52</td>\n",
       "      <td>121.35</td>\n",
       "      <td>...</td>\n",
       "      <td>-1.38</td>\n",
       "      <td>6</td>\n",
       "      <td>0.54</td>\n",
       "      <td>-0.24</td>\n",
       "      <td>0.13</td>\n",
       "      <td>0.1926</td>\n",
       "      <td>-0.6787</td>\n",
       "      <td>1</td>\n",
       "      <td>0</td>\n",
       "      <td>5</td>\n",
       "    </tr>\n",
       "    <tr>\n",
       "      <th>2</th>\n",
       "      <td>126</td>\n",
       "      <td>10</td>\n",
       "      <td>0.500080</td>\n",
       "      <td>1100</td>\n",
       "      <td>3</td>\n",
       "      <td>83607</td>\n",
       "      <td>1800.0</td>\n",
       "      <td>1527.0</td>\n",
       "      <td>127.76</td>\n",
       "      <td>126.49</td>\n",
       "      <td>...</td>\n",
       "      <td>-5.18</td>\n",
       "      <td>13</td>\n",
       "      <td>2.89</td>\n",
       "      <td>-1.73</td>\n",
       "      <td>1.04</td>\n",
       "      <td>0.2521</td>\n",
       "      <td>0.7258</td>\n",
       "      <td>1</td>\n",
       "      <td>0</td>\n",
       "      <td>5</td>\n",
       "    </tr>\n",
       "    <tr>\n",
       "      <th>3</th>\n",
       "      <td>134</td>\n",
       "      <td>10</td>\n",
       "      <td>0.439874</td>\n",
       "      <td>1100</td>\n",
       "      <td>3</td>\n",
       "      <td>82642</td>\n",
       "      <td>7542.0</td>\n",
       "      <td>1730.0</td>\n",
       "      <td>132.94</td>\n",
       "      <td>133.58</td>\n",
       "      <td>...</td>\n",
       "      <td>-2.04</td>\n",
       "      <td>4</td>\n",
       "      <td>1.29</td>\n",
       "      <td>-0.89</td>\n",
       "      <td>0.66</td>\n",
       "      <td>0.2498</td>\n",
       "      <td>0.7119</td>\n",
       "      <td>1</td>\n",
       "      <td>0</td>\n",
       "      <td>5</td>\n",
       "    </tr>\n",
       "    <tr>\n",
       "      <th>4</th>\n",
       "      <td>109</td>\n",
       "      <td>9</td>\n",
       "      <td>0.502749</td>\n",
       "      <td>2900</td>\n",
       "      <td>4</td>\n",
       "      <td>79124</td>\n",
       "      <td>89.0</td>\n",
       "      <td>491.0</td>\n",
       "      <td>122.72</td>\n",
       "      <td>112.77</td>\n",
       "      <td>...</td>\n",
       "      <td>-11.12</td>\n",
       "      <td>26</td>\n",
       "      <td>6.11</td>\n",
       "      <td>-3.82</td>\n",
       "      <td>2.51</td>\n",
       "      <td>0.2282</td>\n",
       "      <td>-0.5399</td>\n",
       "      <td>0</td>\n",
       "      <td>0</td>\n",
       "      <td>5</td>\n",
       "    </tr>\n",
       "  </tbody>\n",
       "</table>\n",
       "<p>5 rows × 769 columns</p>\n",
       "</div>"
      ],
      "text/plain": [
       "    f1  f2        f3    f4  f5     f6      f7      f8      f9     f10  ...  \\\n",
       "0  126  10  0.686842  1100   3  13699  7201.0  4949.0  126.75  126.03  ...   \n",
       "1  121  10  0.782776  1100   3  84645   240.0  1625.0  123.52  121.35  ...   \n",
       "2  126  10  0.500080  1100   3  83607  1800.0  1527.0  127.76  126.49  ...   \n",
       "3  134  10  0.439874  1100   3  82642  7542.0  1730.0  132.94  133.58  ...   \n",
       "4  109   9  0.502749  2900   4  79124    89.0   491.0  122.72  112.77  ...   \n",
       "\n",
       "    f769  f770  f771  f772  f773    f774    f775  f776  f777  f778  \n",
       "0  -3.14     5  2.14 -1.54  1.18  0.1833  0.7873     1     0     5  \n",
       "1  -1.38     6  0.54 -0.24  0.13  0.1926 -0.6787     1     0     5  \n",
       "2  -5.18    13  2.89 -1.73  1.04  0.2521  0.7258     1     0     5  \n",
       "3  -2.04     4  1.29 -0.89  0.66  0.2498  0.7119     1     0     5  \n",
       "4 -11.12    26  6.11 -3.82  2.51  0.2282 -0.5399     0     0     5  \n",
       "\n",
       "[5 rows x 769 columns]"
      ]
     },
     "metadata": {},
     "output_type": "display_data"
    },
    {
     "data": {
      "text/plain": [
       "0    0\n",
       "1    0\n",
       "2    0\n",
       "3    0\n",
       "4    0\n",
       "Name: loss, dtype: int64"
      ]
     },
     "metadata": {},
     "output_type": "display_data"
    }
   ],
   "source": [
    "label_index = 770\n",
    "\n",
    "train_x = train_fs.iloc[:,range(1, label_index)]\n",
    "train_y= train_fs.iloc[:,-1]\n",
    "display(train_x.head())\n",
    "display(train_y.head())"
   ]
  },
  {
   "cell_type": "markdown",
   "id": "105d4a4a",
   "metadata": {
    "papermill": {
     "duration": 0.096063,
     "end_time": "2022-05-16T10:02:40.920994",
     "exception": false,
     "start_time": "2022-05-16T10:02:40.824931",
     "status": "completed"
    },
    "tags": []
   },
   "source": [
    "## Test Data Set"
   ]
  },
  {
   "cell_type": "code",
   "execution_count": 23,
   "id": "aa8b72f5",
   "metadata": {
    "execution": {
     "iopub.execute_input": "2022-05-16T10:02:41.102911Z",
     "iopub.status.busy": "2022-05-16T10:02:41.102182Z",
     "iopub.status.idle": "2022-05-16T10:02:42.886854Z",
     "shell.execute_reply": "2022-05-16T10:02:42.885699Z"
    },
    "papermill": {
     "duration": 1.876946,
     "end_time": "2022-05-16T10:02:42.890006",
     "exception": false,
     "start_time": "2022-05-16T10:02:41.013060",
     "status": "completed"
    },
    "tags": []
   },
   "outputs": [],
   "source": [
    "numeric_cols = test_fs.select_dtypes(include=['number']).columns.values\n",
    "\n",
    "for col in numeric_cols:\n",
    "    if col in list(col_pct_miss_df.column_name) :\n",
    "        mean = test_fs[col].mean(skipna=True)\n",
    "        test_fs[col] = test_fs[col].fillna(mean)"
   ]
  },
  {
   "cell_type": "code",
   "execution_count": 24,
   "id": "ffd150ac",
   "metadata": {
    "execution": {
     "iopub.execute_input": "2022-05-16T10:02:43.066261Z",
     "iopub.status.busy": "2022-05-16T10:02:43.065930Z",
     "iopub.status.idle": "2022-05-16T10:02:43.707476Z",
     "shell.execute_reply": "2022-05-16T10:02:43.706446Z"
    },
    "papermill": {
     "duration": 0.735216,
     "end_time": "2022-05-16T10:02:43.710647",
     "exception": false,
     "start_time": "2022-05-16T10:02:42.975431",
     "status": "completed"
    },
    "tags": []
   },
   "outputs": [],
   "source": [
    "not_numeric_cols = test_fs.select_dtypes(exclude=['number']).columns.values\n",
    "\n",
    "for col in not_numeric_cols:\n",
    "    if col in list(col_pct_miss_df.column_name):\n",
    "#         mode = test_fs[col].mode(dropna=True)[0]\n",
    "        test_fs.loc[test_fs[col]=='NA',col] = 0"
   ]
  },
  {
   "cell_type": "code",
   "execution_count": 25,
   "id": "82de083b",
   "metadata": {
    "execution": {
     "iopub.execute_input": "2022-05-16T10:02:43.883483Z",
     "iopub.status.busy": "2022-05-16T10:02:43.883170Z",
     "iopub.status.idle": "2022-05-16T10:02:46.201993Z",
     "shell.execute_reply": "2022-05-16T10:02:46.200858Z"
    },
    "papermill": {
     "duration": 2.410878,
     "end_time": "2022-05-16T10:02:46.204737",
     "exception": false,
     "start_time": "2022-05-16T10:02:43.793859",
     "status": "completed"
    },
    "tags": []
   },
   "outputs": [
    {
     "data": {
      "text/plain": [
       "float64    673\n",
       "int64       96\n",
       "uint64       1\n",
       "dtype: int64"
      ]
     },
     "execution_count": 25,
     "metadata": {},
     "output_type": "execute_result"
    }
   ],
   "source": [
    "for col in cat:\n",
    "    test_fs[col] = test_fs[col].astype('float64')\n",
    "\n",
    "test_fs.dtypes.value_counts()"
   ]
  },
  {
   "cell_type": "code",
   "execution_count": 26,
   "id": "9a971577",
   "metadata": {
    "execution": {
     "iopub.execute_input": "2022-05-16T10:02:46.373208Z",
     "iopub.status.busy": "2022-05-16T10:02:46.372884Z",
     "iopub.status.idle": "2022-05-16T10:02:47.095638Z",
     "shell.execute_reply": "2022-05-16T10:02:47.094664Z"
    },
    "papermill": {
     "duration": 0.809669,
     "end_time": "2022-05-16T10:02:47.098160",
     "exception": false,
     "start_time": "2022-05-16T10:02:46.288491",
     "status": "completed"
    },
    "tags": []
   },
   "outputs": [
    {
     "data": {
      "text/html": [
       "<div>\n",
       "<style scoped>\n",
       "    .dataframe tbody tr th:only-of-type {\n",
       "        vertical-align: middle;\n",
       "    }\n",
       "\n",
       "    .dataframe tbody tr th {\n",
       "        vertical-align: top;\n",
       "    }\n",
       "\n",
       "    .dataframe thead th {\n",
       "        text-align: right;\n",
       "    }\n",
       "</style>\n",
       "<table border=\"1\" class=\"dataframe\">\n",
       "  <thead>\n",
       "    <tr style=\"text-align: right;\">\n",
       "      <th></th>\n",
       "      <th>result</th>\n",
       "    </tr>\n",
       "  </thead>\n",
       "  <tbody>\n",
       "    <tr>\n",
       "      <th>f5</th>\n",
       "      <td>864</td>\n",
       "    </tr>\n",
       "    <tr>\n",
       "      <th>f137</th>\n",
       "      <td>376</td>\n",
       "    </tr>\n",
       "    <tr>\n",
       "      <th>f138</th>\n",
       "      <td>376</td>\n",
       "    </tr>\n",
       "    <tr>\n",
       "      <th>f206</th>\n",
       "      <td>2816</td>\n",
       "    </tr>\n",
       "    <tr>\n",
       "      <th>f207</th>\n",
       "      <td>2816</td>\n",
       "    </tr>\n",
       "    <tr>\n",
       "      <th>f276</th>\n",
       "      <td>147</td>\n",
       "    </tr>\n",
       "    <tr>\n",
       "      <th>f277</th>\n",
       "      <td>152</td>\n",
       "    </tr>\n",
       "    <tr>\n",
       "      <th>f390</th>\n",
       "      <td>1226</td>\n",
       "    </tr>\n",
       "    <tr>\n",
       "      <th>f391</th>\n",
       "      <td>1226</td>\n",
       "    </tr>\n",
       "    <tr>\n",
       "      <th>f395</th>\n",
       "      <td>6</td>\n",
       "    </tr>\n",
       "    <tr>\n",
       "      <th>f396</th>\n",
       "      <td>4</td>\n",
       "    </tr>\n",
       "    <tr>\n",
       "      <th>f626</th>\n",
       "      <td>1226</td>\n",
       "    </tr>\n",
       "    <tr>\n",
       "      <th>f627</th>\n",
       "      <td>1226</td>\n",
       "    </tr>\n",
       "    <tr>\n",
       "      <th>f695</th>\n",
       "      <td>1226</td>\n",
       "    </tr>\n",
       "    <tr>\n",
       "      <th>f698</th>\n",
       "      <td>1226</td>\n",
       "    </tr>\n",
       "    <tr>\n",
       "      <th>f766</th>\n",
       "      <td>4</td>\n",
       "    </tr>\n",
       "    <tr>\n",
       "      <th>f767</th>\n",
       "      <td>4</td>\n",
       "    </tr>\n",
       "  </tbody>\n",
       "</table>\n",
       "</div>"
      ],
      "text/plain": [
       "      result\n",
       "f5       864\n",
       "f137     376\n",
       "f138     376\n",
       "f206    2816\n",
       "f207    2816\n",
       "f276     147\n",
       "f277     152\n",
       "f390    1226\n",
       "f391    1226\n",
       "f395       6\n",
       "f396       4\n",
       "f626    1226\n",
       "f627    1226\n",
       "f695    1226\n",
       "f698    1226\n",
       "f766       4\n",
       "f767       4"
      ]
     },
     "execution_count": 26,
     "metadata": {},
     "output_type": "execute_result"
    }
   ],
   "source": [
    "# Check for remaing columns with missing value\n",
    "test_fs.isnull().sum().value_counts()\n",
    "nacheck_test = pd.DataFrame(test_fs.isnull().sum(),columns=['result'])\n",
    "nacheck_test[nacheck_test['result']>0]"
   ]
  },
  {
   "cell_type": "code",
   "execution_count": 27,
   "id": "7e3a81fb",
   "metadata": {
    "execution": {
     "iopub.execute_input": "2022-05-16T10:02:47.266993Z",
     "iopub.status.busy": "2022-05-16T10:02:47.266666Z",
     "iopub.status.idle": "2022-05-16T10:02:47.274826Z",
     "shell.execute_reply": "2022-05-16T10:02:47.273785Z"
    },
    "papermill": {
     "duration": 0.09546,
     "end_time": "2022-05-16T10:02:47.277133",
     "exception": false,
     "start_time": "2022-05-16T10:02:47.181673",
     "status": "completed"
    },
    "tags": []
   },
   "outputs": [
    {
     "data": {
      "text/plain": [
       "['f5',\n",
       " 'f137',\n",
       " 'f138',\n",
       " 'f206',\n",
       " 'f207',\n",
       " 'f276',\n",
       " 'f277',\n",
       " 'f390',\n",
       " 'f391',\n",
       " 'f395',\n",
       " 'f396',\n",
       " 'f626',\n",
       " 'f627',\n",
       " 'f695',\n",
       " 'f698',\n",
       " 'f766',\n",
       " 'f767']"
      ]
     },
     "execution_count": 27,
     "metadata": {},
     "output_type": "execute_result"
    }
   ],
   "source": [
    "na_col = list(nacheck_test[nacheck_test['result']>0].index)\n",
    "na_col"
   ]
  },
  {
   "cell_type": "code",
   "execution_count": 28,
   "id": "dbdb7c69",
   "metadata": {
    "execution": {
     "iopub.execute_input": "2022-05-16T10:02:47.447119Z",
     "iopub.status.busy": "2022-05-16T10:02:47.446795Z",
     "iopub.status.idle": "2022-05-16T10:02:47.492244Z",
     "shell.execute_reply": "2022-05-16T10:02:47.491374Z"
    },
    "papermill": {
     "duration": 0.133847,
     "end_time": "2022-05-16T10:02:47.495008",
     "exception": false,
     "start_time": "2022-05-16T10:02:47.361161",
     "status": "completed"
    },
    "tags": []
   },
   "outputs": [],
   "source": [
    "#Manually update remaing columns that fail to fillna\n",
    "for col in na_col:\n",
    "    test_fs[col] = test_fs[col].fillna(test_fs[col].mean(skipna=True))\n"
   ]
  },
  {
   "cell_type": "code",
   "execution_count": 29,
   "id": "1be1e383",
   "metadata": {
    "execution": {
     "iopub.execute_input": "2022-05-16T10:02:47.666552Z",
     "iopub.status.busy": "2022-05-16T10:02:47.666232Z",
     "iopub.status.idle": "2022-05-16T10:02:48.018469Z",
     "shell.execute_reply": "2022-05-16T10:02:48.017653Z"
    },
    "papermill": {
     "duration": 0.440469,
     "end_time": "2022-05-16T10:02:48.020988",
     "exception": false,
     "start_time": "2022-05-16T10:02:47.580519",
     "status": "completed"
    },
    "tags": []
   },
   "outputs": [
    {
     "data": {
      "text/plain": [
       "0    770\n",
       "dtype: int64"
      ]
     },
     "execution_count": 29,
     "metadata": {},
     "output_type": "execute_result"
    }
   ],
   "source": [
    "# Check for missing value again\n",
    "test_fs.isnull().sum().value_counts()"
   ]
  },
  {
   "cell_type": "code",
   "execution_count": 30,
   "id": "49503f10",
   "metadata": {
    "execution": {
     "iopub.execute_input": "2022-05-16T10:02:48.193391Z",
     "iopub.status.busy": "2022-05-16T10:02:48.192635Z",
     "iopub.status.idle": "2022-05-16T10:02:49.567663Z",
     "shell.execute_reply": "2022-05-16T10:02:49.566370Z"
    },
    "papermill": {
     "duration": 1.46328,
     "end_time": "2022-05-16T10:02:49.570310",
     "exception": false,
     "start_time": "2022-05-16T10:02:48.107030",
     "status": "completed"
    },
    "tags": []
   },
   "outputs": [
    {
     "data": {
      "text/html": [
       "<div>\n",
       "<style scoped>\n",
       "    .dataframe tbody tr th:only-of-type {\n",
       "        vertical-align: middle;\n",
       "    }\n",
       "\n",
       "    .dataframe tbody tr th {\n",
       "        vertical-align: top;\n",
       "    }\n",
       "\n",
       "    .dataframe thead th {\n",
       "        text-align: right;\n",
       "    }\n",
       "</style>\n",
       "<table border=\"1\" class=\"dataframe\">\n",
       "  <thead>\n",
       "    <tr style=\"text-align: right;\">\n",
       "      <th></th>\n",
       "      <th>f1</th>\n",
       "      <th>f2</th>\n",
       "      <th>f3</th>\n",
       "      <th>f4</th>\n",
       "      <th>f5</th>\n",
       "      <th>f6</th>\n",
       "      <th>f7</th>\n",
       "      <th>f8</th>\n",
       "      <th>f9</th>\n",
       "      <th>f10</th>\n",
       "      <th>...</th>\n",
       "      <th>f769</th>\n",
       "      <th>f770</th>\n",
       "      <th>f771</th>\n",
       "      <th>f772</th>\n",
       "      <th>f773</th>\n",
       "      <th>f774</th>\n",
       "      <th>f775</th>\n",
       "      <th>f776</th>\n",
       "      <th>f777</th>\n",
       "      <th>f778</th>\n",
       "    </tr>\n",
       "  </thead>\n",
       "  <tbody>\n",
       "    <tr>\n",
       "      <th>0</th>\n",
       "      <td>147</td>\n",
       "      <td>6</td>\n",
       "      <td>0.487058</td>\n",
       "      <td>1100</td>\n",
       "      <td>17.0</td>\n",
       "      <td>75506</td>\n",
       "      <td>964.0</td>\n",
       "      <td>12686.0</td>\n",
       "      <td>152.63</td>\n",
       "      <td>115.91</td>\n",
       "      <td>...</td>\n",
       "      <td>-8.71</td>\n",
       "      <td>19</td>\n",
       "      <td>3.30</td>\n",
       "      <td>-9.37</td>\n",
       "      <td>0.50</td>\n",
       "      <td>0.0539</td>\n",
       "      <td>-1.0733</td>\n",
       "      <td>0</td>\n",
       "      <td>1</td>\n",
       "      <td>1079</td>\n",
       "    </tr>\n",
       "    <tr>\n",
       "      <th>1</th>\n",
       "      <td>156</td>\n",
       "      <td>6</td>\n",
       "      <td>0.728518</td>\n",
       "      <td>5400</td>\n",
       "      <td>3.0</td>\n",
       "      <td>79754</td>\n",
       "      <td>1455.0</td>\n",
       "      <td>4803.0</td>\n",
       "      <td>153.95</td>\n",
       "      <td>155.50</td>\n",
       "      <td>...</td>\n",
       "      <td>-13.26</td>\n",
       "      <td>24</td>\n",
       "      <td>9.53</td>\n",
       "      <td>-7.55</td>\n",
       "      <td>6.22</td>\n",
       "      <td>0.3030</td>\n",
       "      <td>0.6087</td>\n",
       "      <td>0</td>\n",
       "      <td>1</td>\n",
       "      <td>36</td>\n",
       "    </tr>\n",
       "    <tr>\n",
       "      <th>2</th>\n",
       "      <td>132</td>\n",
       "      <td>9</td>\n",
       "      <td>0.898133</td>\n",
       "      <td>2200</td>\n",
       "      <td>16.0</td>\n",
       "      <td>113</td>\n",
       "      <td>5735.0</td>\n",
       "      <td>2387.0</td>\n",
       "      <td>130.61</td>\n",
       "      <td>131.96</td>\n",
       "      <td>...</td>\n",
       "      <td>-4.99</td>\n",
       "      <td>9</td>\n",
       "      <td>3.25</td>\n",
       "      <td>-2.33</td>\n",
       "      <td>1.69</td>\n",
       "      <td>0.2317</td>\n",
       "      <td>0.4184</td>\n",
       "      <td>0</td>\n",
       "      <td>0</td>\n",
       "      <td>393</td>\n",
       "    </tr>\n",
       "    <tr>\n",
       "      <th>3</th>\n",
       "      <td>128</td>\n",
       "      <td>7</td>\n",
       "      <td>0.038411</td>\n",
       "      <td>1300</td>\n",
       "      <td>4.0</td>\n",
       "      <td>3793</td>\n",
       "      <td>4689.0</td>\n",
       "      <td>3469.0</td>\n",
       "      <td>120.50</td>\n",
       "      <td>121.93</td>\n",
       "      <td>...</td>\n",
       "      <td>-16.83</td>\n",
       "      <td>11</td>\n",
       "      <td>0.26</td>\n",
       "      <td>-5.31</td>\n",
       "      <td>0.78</td>\n",
       "      <td>0.2826</td>\n",
       "      <td>-0.7711</td>\n",
       "      <td>0</td>\n",
       "      <td>0</td>\n",
       "      <td>394</td>\n",
       "    </tr>\n",
       "    <tr>\n",
       "      <th>4</th>\n",
       "      <td>119</td>\n",
       "      <td>10</td>\n",
       "      <td>0.443620</td>\n",
       "      <td>1300</td>\n",
       "      <td>16.0</td>\n",
       "      <td>13026</td>\n",
       "      <td>2788.0</td>\n",
       "      <td>7438.0</td>\n",
       "      <td>127.00</td>\n",
       "      <td>125.98</td>\n",
       "      <td>...</td>\n",
       "      <td>-20.00</td>\n",
       "      <td>10</td>\n",
       "      <td>13.55</td>\n",
       "      <td>-0.61</td>\n",
       "      <td>0.01</td>\n",
       "      <td>0.1815</td>\n",
       "      <td>-1.0843</td>\n",
       "      <td>0</td>\n",
       "      <td>0</td>\n",
       "      <td>23</td>\n",
       "    </tr>\n",
       "  </tbody>\n",
       "</table>\n",
       "<p>5 rows × 769 columns</p>\n",
       "</div>"
      ],
      "text/plain": [
       "    f1  f2        f3    f4    f5     f6      f7       f8      f9     f10  ...  \\\n",
       "0  147   6  0.487058  1100  17.0  75506   964.0  12686.0  152.63  115.91  ...   \n",
       "1  156   6  0.728518  5400   3.0  79754  1455.0   4803.0  153.95  155.50  ...   \n",
       "2  132   9  0.898133  2200  16.0    113  5735.0   2387.0  130.61  131.96  ...   \n",
       "3  128   7  0.038411  1300   4.0   3793  4689.0   3469.0  120.50  121.93  ...   \n",
       "4  119  10  0.443620  1300  16.0  13026  2788.0   7438.0  127.00  125.98  ...   \n",
       "\n",
       "    f769  f770   f771  f772  f773    f774    f775  f776  f777  f778  \n",
       "0  -8.71    19   3.30 -9.37  0.50  0.0539 -1.0733     0     1  1079  \n",
       "1 -13.26    24   9.53 -7.55  6.22  0.3030  0.6087     0     1    36  \n",
       "2  -4.99     9   3.25 -2.33  1.69  0.2317  0.4184     0     0   393  \n",
       "3 -16.83    11   0.26 -5.31  0.78  0.2826 -0.7711     0     0   394  \n",
       "4 -20.00    10  13.55 -0.61  0.01  0.1815 -1.0843     0     0    23  \n",
       "\n",
       "[5 rows x 769 columns]"
      ]
     },
     "execution_count": 30,
     "metadata": {},
     "output_type": "execute_result"
    }
   ],
   "source": [
    "test_x = test_fs.iloc[:,range(1, label_index)]\n",
    "test_x.head()"
   ]
  },
  {
   "cell_type": "markdown",
   "id": "aa693154",
   "metadata": {
    "papermill": {
     "duration": 0.08448,
     "end_time": "2022-05-16T10:02:49.739910",
     "exception": false,
     "start_time": "2022-05-16T10:02:49.655430",
     "status": "completed"
    },
    "tags": []
   },
   "source": [
    "# Feature Engineering"
   ]
  },
  {
   "cell_type": "markdown",
   "id": "625939d6",
   "metadata": {
    "papermill": {
     "duration": 0.089997,
     "end_time": "2022-05-16T10:02:49.919853",
     "exception": false,
     "start_time": "2022-05-16T10:02:49.829856",
     "status": "completed"
    },
    "tags": []
   },
   "source": [
    "Original Solution to return feature pairs: https://github.com/freedomljc/Loan_Default_Prediction/blob/master/features.py"
   ]
  },
  {
   "cell_type": "code",
   "execution_count": 31,
   "id": "a49f2af8",
   "metadata": {
    "execution": {
     "iopub.execute_input": "2022-05-16T10:02:50.100397Z",
     "iopub.status.busy": "2022-05-16T10:02:50.100064Z",
     "iopub.status.idle": "2022-05-16T10:02:50.535858Z",
     "shell.execute_reply": "2022-05-16T10:02:50.534781Z"
    },
    "papermill": {
     "duration": 0.532875,
     "end_time": "2022-05-16T10:02:50.539062",
     "exception": false,
     "start_time": "2022-05-16T10:02:50.006187",
     "status": "completed"
    },
    "tags": []
   },
   "outputs": [],
   "source": [
    "feature_pair_sub_list = [[520, 521], [271, 521], [271, 520], [67, 466], [623, 664], [7, 536], [66, 529], [531, 532], [561, 562], [248, 602], [570, 571], [218, 766], [64, 765], [208, 590], [423, 660], [312, 463], [290, 592], [621, 755], [52, 311], [65, 422], [350, 656], [278, 420], [320, 633], [507, 761], [0, 341], [139, 665], [10, 724], [53, 319], [367, 698], [279, 421], [9, 358], [48, 287], [375, 653], [397, 728], [197, 666], [38, 295], [402, 758], [403, 757], [549, 584], [238, 258], [296, 526], [586, 607], [291, 591], [62, 289], [16, 288], [581, 589], [8, 380], [655, 683], [58, 582]]\n",
    "feature_pair_plus_list = [[466, 529], [664, 759], [602, 766], [64, 665], [279, 590], [397, 592], [311, 621], [248, 755], [660, 768], [218, 666], [65, 278], [549, 607], [16, 402], [53, 757], [463, 526], [197, 312], [507, 762], [320, 619], [367, 380], [10, 350], [62, 401], [52, 756], [610, 633], [0, 656], [319, 758], [38, 50], [288, 296], [67, 584], [48, 611], [422, 724], [249, 591], [58, 686], [287, 295], [341, 589], [208, 728], [66, 508], [44, 605], [4, 358], [9, 695]]\n",
    "feature_pair_mul_list = [[466, 529], [621, 664], [159, 626], [599, 602], [213, 607], [209, 218], [433, 463], [16, 665], [619, 766], [158, 625], [558, 605], [64, 248], [402, 660], [583, 606], [53, 279], [595, 596], [367, 590], [592, 633], [52, 278], [65, 350], [10, 38], [526, 644], [42, 397], [23, 666], [401, 758], [67, 73], [54, 589], [507, 549], [358, 591], [423, 610], [250, 312], [311, 755], [66, 353], [611, 732], [645, 765], [1, 320], [88, 341], [319, 757], [286, 296], [375, 403], [48, 509], [203, 581], [422, 655], [62, 87], [283, 622], [627, 724], [258, 686], [168, 268], [0, 197], [282, 646], [420, 656]]\n",
    "feature_pair_divide_list = [[712, 664], [466, 726], [463, 6], [539, 529], [602, 507], [660, 653], [64, 208], [766, 630], [590, 197], [592, 0], [100, 145], [218, 3], [65, 9], [526, 525], [607, 643], [410, 647], [610, 144], [420, 278], [311, 10], [1, 279], [468, 462], [472, 444], [248, 652], [665, 510], [583, 143], [621, 59], [656, 52], [397, 509], [196, 700], [403, 401], [655, 54], [350, 518], [312, 672], [619, 615], [591, 187], [675, 671], [666, 157], [341, 8], [367, 217], [445, 402], [67, 637], [375, 654], [379, 716], [754, 549], [320, 517], [599, 596], [589, 267], [673, 718], [422, 400], [620, 386], [680, 719], [755, 28], [765, 383], [674, 721], [358, 717], [676, 720], [66, 167], [633, 347], [681, 71]]\n",
    "feature_pair_sub_mul_list=[[271, 521, 1], [520, 521, 622], [7, 536, 218], [656, 664, 619], [664, 712, 621], [664, 719, 278], [664, 731, 401], [67, 466, 529], [466, 726, 65], [466, 754, 591], [664, 671, 402], [71, 664, 403], [342, 664, 280], [351, 664, 421], [623, 664, 666], [359, 664, 440], [368, 664, 510], [376, 664, 279], [414, 664, 420], [466, 539, 589], [424, 664, 665], [33, 664, 397], [466, 559, 10], [405, 664, 422], [664, 760, 439], [39, 664, 509], [55, 664, 620], [49, 664, 672], [66, 466, 549], [634, 664, 141], [267, 466, 433], [664, 703, 328], [60, 466, 64], [386, 664, 399], [38, 466, 633], [128, 466, 590], [615, 664, 511], [44, 466, 58], [107, 466, 157], [62, 466, 48], [7, 546, 248], [314, 507, 466], [531, 532, 209], [59, 664, 70], [126, 466, 367], [45, 664, 197], [246, 466, 118], [7, 556, 607], [117, 466, 592], [265, 466, 350], [97, 466, 156], [664, 702, 88], [7, 566, 258], [53, 466, 52], [215, 766, 466], [466, 584, 108], [236, 466, 72], [116, 466, 358], [61, 466, 56], [664, 704, 87], [311, 466, 28], [176, 466, 206], [29, 466, 631], [255, 466, 341], [247, 466, 0], [260, 466, 245], [664, 708, 98], [664, 696, 447], [664, 701, 601], [256, 466, 337], [664, 751, 431], [43, 466, 42], [46, 466, 36], [466, 602, 438], [40, 466, 717], [106, 466, 226], [319, 466, 758], [664, 697, 432], [410, 466, 686], [466, 741, 8], [250, 466, 235], [664, 693, 74], [86, 466, 630], [664, 752, 166], [18, 466, 632], [561, 562, 64], [313, 466, 54], [466, 746, 210], [466, 635, 9], [19, 466, 57], [63, 466, 517], [11, 466, 37], [237, 466, 216], [14, 466, 365], [664, 738, 127], [12, 466, 506], [96, 466, 338], [664, 709, 167], [326, 466, 764], [121, 466, 382], [47, 466, 15], [320, 466, 16], [664, 747, 227], [257, 466, 659], [186, 466, 139], [77, 529, 463], [321, 466, 375], [177, 466, 147], [187, 466, 217], [185, 466, 195], [294, 466, 660], [312, 466, 23], [664, 698, 225], [7, 575, 605], [266, 466, 650], [318, 466, 651], [664, 710, 599], [664, 739, 240], [17, 466, 348], [466, 582, 276], [664, 700, 441], [664, 694, 230], [404, 664, 393], [664, 748, 515], [570, 571, 64], [466, 767, 380], [287, 466, 356], [466, 706, 196], [295, 466, 339], [664, 740, 670], [664, 711, 627], [111, 466, 78], [50, 466, 654], [445, 466, 146], [448, 602, 768], [664, 699, 753], [664, 749, 277], [296, 466, 723], [406, 664, 394], [664, 695, 518], [188, 466, 190], [466, 587, 735], [466, 750, 285], [286, 466, 759], [664, 742, 220], [289, 466, 643], [165, 466, 366], [407, 664, 392], [155, 466, 21], [288, 466, 349], [109, 466, 175], [664, 743, 661], [664, 737, 207], [30, 607, 213], [664, 761, 3], [259, 466, 249], [178, 466, 373], [81, 466, 652], [322, 664, 101], [323, 664, 137], [238, 466, 27], [324, 664, 428], [325, 664, 91], [180, 466, 25], [68, 466, 653], [430, 466, 646], [79, 466, 357], [140, 664, 396], [327, 602, 745], [302, 466, 340], [31, 607, 558], [315, 664, 644], [32, 607, 214], [34, 607, 241], [35, 607, 242], [607, 668, 243], [607, 690, 244], [607, 691, 551], [607, 692, 552], [664, 730, 669], [310, 602, 655], [408, 664, 395], [297, 466, 26], [2, 602, 744], [526, 602, 757], [100, 602, 755], [160, 466, 24], [610, 766, 208], [189, 466, 170], [179, 466, 150], [316, 664, 138], [586, 607, 624], [317, 664, 614], [119, 602, 763], [526, 765, 645], [149, 466, 73], [99, 602, 756], [229, 602, 762], [110, 466, 400], [370, 664, 5], [602, 736, 732], [455, 463, 612], [664, 667, 270], [120, 602, 682], [466, 502, 595], [148, 466, 374], [228, 602, 681], [305, 602, 718], [611, 766, 516], [423, 660, 4], [89, 602, 369], [219, 602, 678], [239, 466, 715], [472, 602, 657], [168, 766, 353], [80, 466, 385], [158, 466, 22], [303, 602, 679], [90, 602, 720], [169, 602, 647], [664, 724, 362], [281, 660, 347], [159, 602, 680], [290, 664, 398], [492, 602, 683], [291, 664, 613], [292, 664, 20], [583, 602, 721], [293, 664, 384], [298, 664, 629], [508, 602, 675], [602, 606, 299], [602, 603, 300], [585, 602, 301], [463, 482, 381], [602, 714, 282], [304, 602, 360], [602, 713, 676], [588, 602, 673], [664, 728, 383], [568, 660, 538], [425, 660, 372], [221, 660, 222], [223, 660, 224], [572, 660, 577], [541, 660, 533], [542, 660, 251], [231, 660, 252], [232, 660, 253], [233, 660, 254], [234, 660, 261], [594, 602, 677], [593, 602, 722], [64, 364, 268], [306, 664, 355], [663, 664, 618], [563, 660, 553], [409, 466, 307], [450, 660, 13], [308, 664, 389], [345, 664, 729], [548, 660, 262], [474, 660, 346], [468, 660, 442], [82, 660, 628], [92, 660, 444], [309, 664, 637], [449, 660, 51], [93, 660, 462], [94, 660, 471], [487, 660, 596], [83, 660, 443], [486, 660, 598], [95, 660, 436], [84, 660, 597], [85, 660, 6], [608, 664, 275], [477, 660, 361], [484, 660, 454], [478, 660, 481], [496, 660, 491], [497, 660, 501], [102, 660, 263], [103, 660, 264], [104, 660, 75], [105, 660, 434], [724, 727, 642], [476, 660, 636], [112, 660, 354], [457, 660, 498], [113, 660, 363]]\n",
    "feature_pair_sub_list2=[[520, 521], [271, 521], [271, 520], [67, 466], [623, 664], [7, 536], [66, 529], [531, 532], [561, 562], [248, 602], [570, 571], [218, 766], [64, 765], [208, 590], [423, 660], [312, 463], [290, 592], [621, 755], [52, 311], [65, 422], [350, 656], [278, 420], [320, 633], [507, 761], [0, 341], [139, 665], [10, 724], [53, 319], [367, 698], [279, 421], [9, 358], [48, 287], [375, 653], [397, 728], [197, 666], [38, 295], [402, 758], [403, 757], [549, 584], [238, 258], [296, 526], [586, 607], [291, 591], [62, 289], [16, 288], [581, 589], [8, 380], [655, 683], [58, 582], [54, 587], [377, 657], [44, 81], [292, 735], [610, 706], [177, 401], [109, 249], [187, 756], [425, 768], [293, 723], [61, 631], [365, 730], [378, 658], [100, 239], [37, 47], [12, 632], [313, 318], [541, 542], [268, 718], [36, 46], [28, 700], [306, 763], [79, 611], [361, 722], [727, 762], [11, 506], [588, 686], [99, 267], [360, 721], [717, 759], [431, 432], [679, 720], [508, 605], [282, 391], [285, 745], [23, 519], [445, 599], [379, 716], [250, 255], [176, 326], [4, 314], [348, 671], [110, 229], [166, 167], [15, 29], [230, 235], [585, 764], [198, 283], [157, 650], [219, 767], [307, 744], [308, 315], [309, 316], [400, 743], [496, 497], [455, 472], [317, 669], [413, 689], [87, 128], [196, 327], [281, 356], [488, 498], [92, 102], [93, 103], [94, 104], [95, 105], [410, 736], [257, 266], [373, 652], [642, 732], [228, 441], [17, 137], [42, 179], [704, 712], [719, 751], [107, 305], [408, 622], [88, 118], [731, 752], [220, 265], [3, 200], [71, 339], [56, 178], [82, 484], [494, 504], [212, 516], [342, 697], [351, 404], [353, 370], [13, 132], [337, 619], [628, 742], [359, 702], [368, 709], [651, 737], [376, 708], [414, 638], [424, 710], [240, 245], [33, 406], [405, 693], [637, 760], [385, 614], [39, 73], [55, 711], [49, 407], [286, 634], [346, 371], [389, 618], [160, 195], [259, 749], [45, 59], [645, 646], [502, 699], [40, 635], [492, 695], [347, 740], [274, 464], [111, 175], [215, 386], [149, 190], [615, 629], [272, 461], [146, 748], [449, 450], [338, 703], [430, 739], [310, 747], [459, 499], [18, 19], [277, 694], [476, 477], [148, 150], [302, 322], [323, 382], [14, 324], [57, 325], [517, 738], [43, 701], [336, 418], [465, 489], [138, 276], [83, 468], [448, 696], [205, 426], [294, 298], [299, 753], [300, 511], [127, 301], [144, 214], [204, 467], [608, 609], [170, 741], [143, 734], [133, 398], [191, 675], [192, 680], [269, 284], [237, 256], [80, 155], [193, 678], [194, 673], [130, 676], [21, 543], [134, 202], [142, 681], [662, 663], [363, 667], [135, 273], [331, 332], [674, 677], [112, 474], [199, 682], [275, 412], [168, 217], [345, 362], [460, 470], [171, 563], [490, 500], [247, 559], [172, 548], [366, 558], [173, 231], [174, 232], [270, 411], [181, 514], [161, 233], [162, 234], [169, 189], [343, 352], [211, 213], [84, 486], [344, 687], [85, 487], [182, 369], [163, 568], [164, 572], [512, 513], [183, 577], [349, 533], [612, 684], [184, 525], [151, 546], [152, 556], [153, 566], [154, 575], [27, 553], [446, 705], [384, 613], [515, 729], [5, 644], [25, 451], [86, 225], [241, 357], [221, 251], [222, 252], [223, 253], [224, 254], [493, 503], [552, 672], [26, 242], [180, 216], [523, 535], [243, 340], [24, 244], [261, 538], [89, 90], [262, 374], [263, 630], [264, 715], [428, 551], [117, 156], [201, 524], [51, 433], [60, 419], [522, 528], [647, 670], [627, 733], [131, 544], [534, 564], [434, 596], [545, 555], [78, 573], [77, 554], [185, 364], [136, 520], [495, 505], [435, 597], [2, 390], [113, 457], [120, 478], [114, 594], [115, 321], [603, 604], [260, 565], [303, 574], [547, 595], [209, 392], [396, 557], [537, 567], [576, 639], [41, 560], [165, 518], [297, 550], [96, 121], [122, 482], [119, 123], [91, 124], [116, 125], [437, 600], [569, 578], [30, 415], [746, 750], [76, 443], [393, 643], [453, 469], [456, 483], [442, 725], [74, 438], [203, 527], [479, 480], [98, 540], [458, 485], [141, 661], [31, 236], [394, 620], [32, 640], [473, 475], [34, 354], [452, 462], [713, 714], [72, 330], [659, 726], [580, 648], [75, 707], [35, 427], [329, 754], [97, 108], [186, 668], [395, 399], [6, 471], [246, 690], [510, 593], [101, 444], [439, 691], [20, 688], [454, 692], [106, 481], [147, 491], [126, 501], [436, 583], [416, 530], [226, 227], [598, 606], [383, 685], [50, 69], [509, 539], [328, 624], [68, 654], [158, 159], [63, 641], [304, 372], [355, 649], [280, 636], [188, 333], [625, 626], [1, 417], [206, 440], [22, 387], [129, 429], [334, 381], [70, 616], [145, 335], [140, 210]]\n",
    "feature_pair_plus_list2=[[466, 529], [664, 759], [602, 766], [64, 665], [279, 590], [397, 592], [311, 621], [248, 755], [660, 768], [218, 666], [65, 278], [549, 607], [16, 402], [53, 757], [463, 526], [197, 312], [507, 762], [320, 619], [367, 380], [10, 350], [62, 401], [52, 756], [610, 633], [0, 656], [319, 758], [38, 50], [288, 296], [67, 584], [48, 611], [422, 724], [249, 591], [58, 686], [287, 295], [341, 589], [208, 728], [66, 508], [44, 605], [4, 358], [9, 695], [54, 99], [100, 258], [425, 577], [3, 655], [581, 765], [8, 694], [519, 658], [267, 582], [587, 706], [290, 420], [717, 730], [282, 561], [177, 238], [36, 326], [727, 763], [423, 543], [599, 631], [283, 657], [516, 689], [235, 764], [109, 187], [291, 608], [137, 767], [51, 292], [214, 721], [293, 346], [200, 268], [157, 289], [219, 229], [623, 653], [281, 533], [570, 732], [138, 745], [314, 667], [663, 761], [315, 421], [375, 400], [565, 722], [228, 305], [514, 718], [79, 176], [316, 510], [280, 317], [212, 720], [652, 671], [110, 441], [313, 403], [41, 744], [284, 465], [251, 646], [175, 632], [209, 743], [179, 196], [390, 712], [364, 622], [28, 723], [506, 650], [37, 195], [571, 683], [211, 426], [42, 170], [132, 677], [640, 742], [71, 643], [662, 737], [472, 736], [682, 705], [265, 559], [5, 332], [525, 680], [536, 678], [546, 675], [69, 342], [15, 318], [56, 255], [556, 673], [641, 719], [545, 716], [700, 729], [298, 609], [669, 735], [299, 410], [80, 239], [459, 734], [300, 354], [141, 749], [440, 731], [377, 513], [107, 121], [351, 419], [140, 359], [368, 439], [376, 509], [372, 414], [381, 424], [33, 217], [405, 518], [636, 760], [46, 150], [461, 578], [216, 257], [39, 445], [55, 139], [49, 399], [620, 634], [149, 156], [74, 699], [133, 547], [604, 740], [460, 687], [189, 386], [207, 615], [90, 748], [353, 703], [17, 259], [418, 512], [178, 739], [432, 698], [301, 747], [322, 404], [352, 535], [59, 323], [324, 407], [325, 408], [417, 464], [523, 684], [455, 738], [435, 676], [87, 190], [601, 701], [76, 681], [345, 702], [45, 186], [406, 752], [447, 704], [237, 697], [167, 751], [159, 696], [369, 453], [148, 693], [411, 733], [285, 365], [81, 588], [467, 616], [603, 709], [206, 708], [710, 741], [146, 327], [348, 638], [247, 711], [134, 524], [647, 679], [443, 674], [451, 558], [271, 378], [412, 434], [310, 337], [450, 541], [449, 542], [82, 231], [83, 232], [84, 233], [85, 234], [135, 335], [213, 437], [477, 566], [476, 575], [7, 112], [478, 552], [113, 261], [114, 262], [115, 263], [241, 457], [361, 574], [427, 528], [111, 128], [488, 548], [360, 520], [242, 494], [484, 562], [343, 521], [252, 487], [253, 486], [92, 254], [356, 642], [553, 624], [93, 264], [94, 243], [95, 244], [415, 557], [88, 302], [468, 551], [215, 502], [198, 391], [446, 544], [362, 563], [585, 726], [495, 560], [573, 725], [30, 245], [452, 564], [370, 572], [474, 568], [339, 645], [379, 555], [483, 567], [23, 205], [522, 554], [538, 654], [473, 576], [75, 413], [155, 168], [504, 531], [498, 532], [166, 180], [344, 480], [493, 537], [122, 221], [123, 222], [124, 223], [125, 224], [534, 600], [492, 651], [236, 260], [19, 127], [57, 392], [485, 569], [31, 586], [86, 108], [14, 511], [505, 550], [225, 595], [330, 442], [202, 456], [61, 63], [126, 246], [6, 329], [458, 540], [47, 396], [306, 659], [334, 475], [21, 644], [490, 648], [89, 750], [527, 685], [43, 627], [479, 707], [12, 433], [158, 227], [60, 393], [444, 625], [294, 753], [366, 672], [18, 185], [371, 628], [596, 626], [389, 470], [11, 169], [210, 307], [188, 308], [309, 328], [40, 539], [203, 688], [22, 454], [374, 481], [1, 491], [438, 501], [436, 639], [387, 530], [431, 598], [129, 489], [349, 373], [469, 597], [70, 462], [72, 471], [333, 649], [276, 338], [68, 226], [32, 713], [409, 496], [429, 497], [102, 304], [103, 256], [104, 118], [105, 355], [266, 515], [204, 416], [106, 606], [363, 428], [77, 382], [27, 171], [29, 635], [25, 172], [277, 448], [173, 357], [117, 250], [26, 174], [331, 499], [73, 637], [230, 240], [272, 503], [116, 160], [142, 269], [2, 78], [145, 500], [714, 754], [161, 340]]\n",
    "feature_pair_sub_list_sf=[[271, 521], [520, 521], [271, 520], [592, 608], [238, 248], [186, 766], [60, 311], [176, 218], [9, 397], [248, 750], [90, 529], [396, 766], [660, 724], [108, 507], [107, 660], [65, 320], [577, 660], [271, 521], [10, 455], [64, 126], [56, 312], [664, 757], [518, 590], [511, 602], [65, 298], [259, 665], [12, 590], [529, 582], [291, 589], [187, 660], [296, 526], [64, 159], [170, 320], [64, 724], [65, 187], [508, 665], [298, 660], [358, 752], [592, 706], [25, 664], [397, 619], [466, 691], [52, 664], [665, 736], [350, 609], [665, 666], [664, 669], [248, 602], [66, 666], [118, 463], [311, 590], [64, 346], [309, 590], [312, 506], [319, 611], [660, 750], [65, 185], [706, 757], [764, 766], [271, 520], [394, 466], [150, 319], [367, 636], [611, 621], [64, 265], [186, 602], [10, 509], [89, 350], [590, 605], [312, 508], [101, 311], [358, 710], [399, 591], [664, 756], [507, 699], [229, 312], [98, 466], [661, 757], [165, 463], [62, 350], [328, 592], [586, 660], [68, 665], [156, 350], [633, 664], [218, 713], [311, 607], [187, 757], [511, 766], [338, 466], [559, 664], [63, 664], [318, 507], [509, 664], [659, 660], [64, 753], [249, 664], [169, 320], [10, 209], [584, 660], [422, 665], [394, 664], [19, 590], [341, 703], [101, 466], [231, 660], [41, 64], [38, 590], [350, 445], [7, 546], [350, 711], [631, 664], [188, 664], [65, 177], [100, 296], [410, 660], [50, 766], [287, 766], [187, 665], [24, 660], [160, 350], [34, 507], [303, 529], [472, 660], [421, 422], [549, 621], [81, 466], [660, 736], [61, 590], [664, 668], [515, 602], [99, 350], [260, 350], [246, 466], [71, 664], [660, 663], [302, 602], [220, 664], [310, 350], [259, 602], [431, 660], [558, 660], [120, 766], [665, 761], [64, 91], [179, 248], [36, 664], [664, 735], [16, 466], [10, 237], [107, 766], [66, 592], [592, 691], [338, 602], [177, 466], [33, 367], [350, 433], [64, 403], [220, 602], [12, 529], [106, 664], [65, 100], [216, 602], [507, 627], [656, 696], [196, 529], [373, 660], [350, 761], [529, 713], [466, 593], [77, 660], [86, 397], [305, 367], [63, 367], [638, 664], [175, 665], [305, 466], [72, 367], [520, 521], [220, 660], [64, 510], [96, 367], [10, 724], [367, 706], [248, 287], [185, 397], [64, 621], [303, 466], [91, 592], [466, 664], [86, 590], [438, 507], [64, 754], [65, 539], [42, 590], [341, 342], [36, 590], [176, 529], [286, 592], [150, 279], [350, 714], [65, 656], [38, 766], [656, 752], [431, 664], [583, 665], [472, 664], [197, 466], [726, 766], [592, 692], [656, 660], [266, 507], [180, 592], [660, 758], [367, 608], [448, 466], [96, 590], [445, 592], [350, 754], [287, 466], [229, 766], [116, 397], [260, 590], [466, 585], [87, 279], [57, 665], [187, 367], [37, 529], [10, 37], [64, 208], [602, 754], [186, 279], [15, 664], [65, 661], [86, 463], [196, 507], [45, 664], [67, 690], [65, 206], [267, 591], [466, 515], [397, 746], [294, 766], [237, 367], [589, 592], [502, 766], [37, 320], [367, 763], [507, 729], [397, 627], [109, 755], [64, 90], [180, 466], [65, 604], [257, 766], [207, 592], [168, 602], [176, 248], [506, 660], [276, 397], [636, 660], [664, 764], [179, 463], [100, 466], [457, 660], [420, 660], [250, 590], [255, 602], [638, 660], [367, 509], [40, 279], [507, 609], [98, 766], [603, 665], [318, 529], [64, 401], [126, 590], [166, 590], [218, 508], [393, 507], [63, 766], [276, 507], [41, 664], [341, 761], [311, 714], [111, 664], [169, 766], [341, 376], [10, 80], [97, 466], [552, 660], [664, 703], [295, 529], [664, 692], [323, 664], [250, 602], [96, 766], [287, 602], [219, 466], [79, 660], [585, 766], [250, 529], [313, 665], [590, 659], [278, 420], [32, 466], [10, 706], [147, 350], [10, 311], [289, 766], [43, 466], [10, 585], [246, 463], [350, 712], [10, 309], [397, 441], [432, 664], [664, 693], [583, 664], [29, 602], [35, 311], [235, 660], [41, 507], [397, 668], [325, 350], [466, 746], [342, 664], [67, 607], [238, 757], [63, 590], [52, 296], [32, 660], [265, 463], [15, 312], [397, 447], [227, 602], [65, 394], [10, 109], [219, 660], [665, 767], [110, 466], [88, 660], [664, 742], [96, 397], [586, 664], [664, 694], [358, 615], [298, 590], [279, 296], [65, 750], [65, 101], [185, 311], [64, 539], [52, 288], [72, 664], [366, 664], [218, 311], [117, 664], [326, 766], [466, 590], [592, 754], [54, 664], [226, 529], [65, 447], [74, 665], [507, 753], [279, 744], [219, 592], [67, 529], [91, 602], [111, 367], [664, 738], [279, 316], [249, 665], [65, 757], [350, 763], [602, 714], [305, 660], [8, 367], [110, 367], [8, 375], [664, 736], [15, 602], [137, 665], [65, 313], [219, 507], [345, 664], [312, 764], [236, 248], [116, 664], [350, 651], [32, 218], [664, 746], [302, 592], [220, 279], [99, 766], [195, 664], [278, 664], [265, 466], [227, 529], [650, 664], [206, 466], [296, 589], [218, 583], [664, 700], [279, 286], [62, 367], [248, 367], [64, 78], [209, 507], [218, 660], [279, 314], [518, 664], [10, 633], [515, 590], [139, 397], [507, 668], [666, 741], [64, 294], [259, 660], [350, 518], [2, 507], [341, 737], [394, 660], [65, 763], [10, 439], [150, 312], [250, 311], [41, 65], [139, 350], [64, 629], [66, 549], [313, 529], [118, 766], [401, 660], [107, 350], [167, 590], [64, 176], [180, 350], [67, 279], [262, 660], [660, 704], [15, 64], [67, 590], [240, 660], [466, 539], [77, 397], [466, 765], [350, 407], [297, 766], [127, 367], [306, 660], [100, 320], [9, 350], [47, 507], [338, 592], [53, 592], [367, 712], [51, 665], [65, 226], [91, 664], [10, 371], [65, 765], [10, 299], [65, 139], [438, 664], [230, 466], [367, 760], [62, 319], [155, 320], [33, 664], [121, 466], [260, 320], [602, 755], [327, 664], [582, 755], [549, 691], [16, 296], [508, 660], [403, 666], [35, 64], [16, 602], [108, 466], [238, 350], [88, 602], [590, 666], [65, 744], [64, 611], [240, 529], [320, 606], [107, 529], [159, 466], [177, 665], [186, 529], [108, 592], [664, 712], [52, 592], [515, 660], [47, 311], [197, 633], [425, 660], [396, 529], [150, 660]]"
   ]
  },
  {
   "cell_type": "code",
   "execution_count": 32,
   "id": "87cd9327",
   "metadata": {
    "execution": {
     "iopub.execute_input": "2022-05-16T10:02:50.716220Z",
     "iopub.status.busy": "2022-05-16T10:02:50.715469Z",
     "iopub.status.idle": "2022-05-16T10:02:50.725100Z",
     "shell.execute_reply": "2022-05-16T10:02:50.724134Z"
    },
    "papermill": {
     "duration": 0.10016,
     "end_time": "2022-05-16T10:02:50.727211",
     "exception": false,
     "start_time": "2022-05-16T10:02:50.627051",
     "status": "completed"
    },
    "tags": []
   },
   "outputs": [],
   "source": [
    "#f_regression to find correlation, dict.iteritems() deprecate in python3\n",
    "def getTopFeatures(train_x, train_y, n_features=100):\n",
    "    f_val, p_val = f_regression(train_x,train_y)\n",
    "    f_val_dict = {}\n",
    "    p_val_dict = {}\n",
    "    for i in range(len(f_val)):\n",
    "        if math.isnan(f_val[i]):\n",
    "            f_val[i] = 0.0\n",
    "        f_val_dict[i] = f_val[i]\n",
    "        if math.isnan(p_val[i]):\n",
    "            p_val[i] = 0.0\n",
    "        p_val_dict[i] = p_val[i]\n",
    "    \n",
    "    sorted_f = sorted(f_val_dict.items(), key=operator.itemgetter(1),reverse=True)\n",
    "    sorted_p = sorted(p_val_dict.items(), key=operator.itemgetter(1),reverse=True)\n",
    "    \n",
    "    feature_indexs = []\n",
    "    for i in range(0,n_features):\n",
    "        feature_indexs.append(sorted_f[i][0])\n",
    "    \n",
    "    return feature_indexs"
   ]
  },
  {
   "cell_type": "code",
   "execution_count": 33,
   "id": "bb4963fb",
   "metadata": {
    "execution": {
     "iopub.execute_input": "2022-05-16T10:02:50.904386Z",
     "iopub.status.busy": "2022-05-16T10:02:50.903824Z",
     "iopub.status.idle": "2022-05-16T10:02:51.570192Z",
     "shell.execute_reply": "2022-05-16T10:02:51.568735Z"
    },
    "papermill": {
     "duration": 0.759221,
     "end_time": "2022-05-16T10:02:51.573557",
     "exception": false,
     "start_time": "2022-05-16T10:02:50.814336",
     "status": "completed"
    },
    "tags": []
   },
   "outputs": [
    {
     "name": "stderr",
     "output_type": "stream",
     "text": [
      "/opt/conda/lib/python3.7/site-packages/sklearn/feature_selection/_univariate_selection.py:289: RuntimeWarning: divide by zero encountered in true_divide\n",
      "  correlation_coefficient /= X_norms\n",
      "/opt/conda/lib/python3.7/site-packages/sklearn/feature_selection/_univariate_selection.py:289: RuntimeWarning: invalid value encountered in true_divide\n",
      "  correlation_coefficient /= X_norms\n",
      "/opt/conda/lib/python3.7/site-packages/sklearn/feature_selection/_univariate_selection.py:358: RuntimeWarning: invalid value encountered in true_divide\n",
      "  f_statistic = corr_coef_squared / (1 - corr_coef_squared) * deg_of_freedom\n"
     ]
    }
   ],
   "source": [
    "feature_indexs = getTopFeatures(train_x, train_y)"
   ]
  },
  {
   "cell_type": "code",
   "execution_count": 34,
   "id": "8eb6848a",
   "metadata": {
    "execution": {
     "iopub.execute_input": "2022-05-16T10:02:51.802927Z",
     "iopub.status.busy": "2022-05-16T10:02:51.802562Z",
     "iopub.status.idle": "2022-05-16T10:02:51.818792Z",
     "shell.execute_reply": "2022-05-16T10:02:51.817886Z"
    },
    "papermill": {
     "duration": 0.111006,
     "end_time": "2022-05-16T10:02:51.821429",
     "exception": false,
     "start_time": "2022-05-16T10:02:51.710423",
     "status": "completed"
    },
    "tags": []
   },
   "outputs": [],
   "source": [
    "# generate the new data, based on which features are generated, and used\n",
    "def get_data(train_x, feature_indexs, feature_minus_pair_list=[], feature_plus_pair_list=[],\n",
    "            feature_mul_pair_list=[], feature_divide_pair_list = [], feature_pair_sub_mul_list=[],\n",
    "            feature_pair_plus_mul_list = [],feature_pair_sub_divide_list = [], feature_minus2_pair_list = [],feature_mul2_pair_list=[], \n",
    "            feature_sub_square_pair_list=[], feature_square_sub_pair_list=[],feature_square_plus_pair_list=[]):\n",
    "    sub_train_x = train_x.iloc[:,feature_indexs].to_numpy()\n",
    "    for i in range(len(feature_minus_pair_list)):\n",
    "        ind_i = feature_minus_pair_list[i][0]\n",
    "        ind_j = feature_minus_pair_list[i][1]\n",
    "        sub_train_x = np.column_stack((sub_train_x, train_x.iloc[:,ind_i]-train_x.iloc[:,ind_j]))\n",
    "    \n",
    "    for i in range(len(feature_plus_pair_list)):\n",
    "        ind_i = feature_plus_pair_list[i][0]\n",
    "        ind_j = feature_plus_pair_list[i][1]\n",
    "        sub_train_x = np.column_stack((sub_train_x, train_x.iloc[:,ind_i] + train_x.iloc[:,ind_j]))\n",
    "\n",
    "#Submission score (SVR only) is 0.54 by using above 2 features, 0.64 with mul_pair_list, 0.8 with all extra features\n",
    "    for i in range(len(feature_mul_pair_list)):\n",
    "        ind_i = feature_mul_pair_list[i][0]\n",
    "        ind_j = feature_mul_pair_list[i][1]\n",
    "        sub_train_x = np.column_stack((sub_train_x, train_x.iloc[:,ind_i] * train_x.iloc[:,ind_j]))\n",
    "    \n",
    "    for i in range(len(feature_divide_pair_list)):\n",
    "        ind_i = feature_divide_pair_list[i][0]\n",
    "        ind_j = feature_divide_pair_list[i][1]\n",
    "        sub_train_x = np.column_stack((sub_train_x, train_x.iloc[:,ind_i] / train_x.iloc[:,ind_j]))\n",
    "    \n",
    "    for i in range(len(feature_pair_sub_mul_list)):\n",
    "        ind_i = feature_pair_sub_mul_list[i][0]\n",
    "        ind_j = feature_pair_sub_mul_list[i][1]\n",
    "        ind_k = feature_pair_sub_mul_list[i][2]\n",
    "        sub_train_x = np.column_stack((sub_train_x, (train_x.iloc[:,ind_i]-train_x.iloc[:,ind_j]) * train_x.iloc[:,ind_k]))\n",
    "        \n",
    "    return sub_train_x"
   ]
  },
  {
   "cell_type": "code",
   "execution_count": 35,
   "id": "03b16310",
   "metadata": {
    "execution": {
     "iopub.execute_input": "2022-05-16T10:02:52.007791Z",
     "iopub.status.busy": "2022-05-16T10:02:52.007052Z",
     "iopub.status.idle": "2022-05-16T10:02:58.491299Z",
     "shell.execute_reply": "2022-05-16T10:02:58.490377Z"
    },
    "papermill": {
     "duration": 6.576786,
     "end_time": "2022-05-16T10:02:58.493716",
     "exception": false,
     "start_time": "2022-05-16T10:02:51.916930",
     "status": "completed"
    },
    "tags": []
   },
   "outputs": [
    {
     "data": {
      "text/plain": [
       "array([[ 1.17000e+00,  1.13000e+00,  3.30000e+01, ..., -8.12000e+01,\n",
       "        -7.39200e+01,  7.29000e-02],\n",
       "       [ 1.20000e+00,  1.18000e+00,  4.30000e+01, ..., -3.50390e+02,\n",
       "        -3.84430e+02,  7.29000e-02],\n",
       "       [ 1.17000e+00,  1.16000e+00,  1.00000e+02, ..., -4.43700e+02,\n",
       "        -5.14605e+02,  2.43000e-02],\n",
       "       ...,\n",
       "       [ 1.14000e+00,  1.15000e+00,  7.00000e+00, ..., -2.14200e+01,\n",
       "        -1.78350e+01, -4.12000e-02],\n",
       "       [ 1.17000e+00,  1.12000e+00,  3.00000e+01, ..., -3.30400e+02,\n",
       "        -4.76000e+02,  0.00000e+00],\n",
       "       [ 1.16000e+00,  1.15000e+00,  8.00000e+00, ..., -1.36500e+01,\n",
       "        -2.52300e+01,  4.12000e-02]])"
      ]
     },
     "execution_count": 35,
     "metadata": {},
     "output_type": "execute_result"
    }
   ],
   "source": [
    "#Sub train data for classification\n",
    "sub_x_Train_clf = get_data(train_x, feature_indexs[:16], feature_pair_sub_list\n",
    "            ,feature_pair_plus_list, feature_pair_mul_list, feature_pair_divide_list[:20], feature_pair_sub_mul_list[:20])\n",
    "sub_x_Train_clf"
   ]
  },
  {
   "cell_type": "code",
   "execution_count": 36,
   "id": "ddfa09fe",
   "metadata": {
    "execution": {
     "iopub.execute_input": "2022-05-16T10:02:58.670553Z",
     "iopub.status.busy": "2022-05-16T10:02:58.670180Z",
     "iopub.status.idle": "2022-05-16T10:02:58.676577Z",
     "shell.execute_reply": "2022-05-16T10:02:58.675602Z"
    },
    "papermill": {
     "duration": 0.097768,
     "end_time": "2022-05-16T10:02:58.678942",
     "exception": false,
     "start_time": "2022-05-16T10:02:58.581174",
     "status": "completed"
    },
    "tags": []
   },
   "outputs": [
    {
     "data": {
      "text/plain": [
       "(105471, 195)"
      ]
     },
     "execution_count": 36,
     "metadata": {},
     "output_type": "execute_result"
    }
   ],
   "source": [
    "#Check for 1st stacking result, less columns after stacking due to only extract top 100 features from train DF,\n",
    "sub_x_Train_clf.shape"
   ]
  },
  {
   "cell_type": "code",
   "execution_count": 37,
   "id": "3c38a2f1",
   "metadata": {
    "execution": {
     "iopub.execute_input": "2022-05-16T10:02:58.854193Z",
     "iopub.status.busy": "2022-05-16T10:02:58.853835Z",
     "iopub.status.idle": "2022-05-16T10:06:11.401721Z",
     "shell.execute_reply": "2022-05-16T10:06:11.400778Z"
    },
    "papermill": {
     "duration": 192.725413,
     "end_time": "2022-05-16T10:06:11.491361",
     "exception": false,
     "start_time": "2022-05-16T10:02:58.765948",
     "status": "completed"
    },
    "tags": []
   },
   "outputs": [
    {
     "data": {
      "text/plain": [
       "(105471, 1093)"
      ]
     },
     "execution_count": 37,
     "metadata": {},
     "output_type": "execute_result"
    }
   ],
   "source": [
    "#Sub train data for model prediction\n",
    "sub_x_Train_pre = get_data(train_x, feature_indexs[:100], feature_pair_sub_list_sf\n",
    "    ,feature_pair_plus_list2[:100], feature_pair_mul_list[:40], feature_pair_divide_list, feature_pair_sub_mul_list)\n",
    "sub_x_Train_pre.shape"
   ]
  },
  {
   "cell_type": "code",
   "execution_count": 38,
   "id": "6395143b",
   "metadata": {
    "execution": {
     "iopub.execute_input": "2022-05-16T10:06:11.667969Z",
     "iopub.status.busy": "2022-05-16T10:06:11.667563Z",
     "iopub.status.idle": "2022-05-16T10:06:24.238895Z",
     "shell.execute_reply": "2022-05-16T10:06:24.238221Z"
    },
    "papermill": {
     "duration": 12.662374,
     "end_time": "2022-05-16T10:06:24.240884",
     "exception": false,
     "start_time": "2022-05-16T10:06:11.578510",
     "status": "completed"
    },
    "tags": []
   },
   "outputs": [
    {
     "data": {
      "text/plain": [
       "(210944, 195)"
      ]
     },
     "execution_count": 38,
     "metadata": {},
     "output_type": "execute_result"
    }
   ],
   "source": [
    "sub_x_Test_clf = get_data(test_x, feature_indexs[:16], feature_pair_sub_list\n",
    "            ,feature_pair_plus_list, feature_pair_mul_list, feature_pair_divide_list[:20], feature_pair_sub_mul_list[:20])\n",
    "sub_x_Test_clf.shape"
   ]
  },
  {
   "cell_type": "code",
   "execution_count": 39,
   "id": "2f34ef33",
   "metadata": {
    "execution": {
     "iopub.execute_input": "2022-05-16T10:06:24.420720Z",
     "iopub.status.busy": "2022-05-16T10:06:24.420061Z",
     "iopub.status.idle": "2022-05-16T10:12:49.687725Z",
     "shell.execute_reply": "2022-05-16T10:12:49.686602Z"
    },
    "papermill": {
     "duration": 385.452282,
     "end_time": "2022-05-16T10:12:49.782038",
     "exception": false,
     "start_time": "2022-05-16T10:06:24.329756",
     "status": "completed"
    },
    "tags": []
   },
   "outputs": [
    {
     "data": {
      "text/plain": [
       "(210944, 1093)"
      ]
     },
     "execution_count": 39,
     "metadata": {},
     "output_type": "execute_result"
    }
   ],
   "source": [
    "sub_x_Test_pre = get_data(test_x, feature_indexs[:100], feature_pair_sub_list_sf\n",
    "    ,feature_pair_plus_list2[:100], feature_pair_mul_list[:40], feature_pair_divide_list, feature_pair_sub_mul_list)\n",
    "sub_x_Test_pre.shape"
   ]
  },
  {
   "cell_type": "code",
   "execution_count": 40,
   "id": "a897639a",
   "metadata": {
    "execution": {
     "iopub.execute_input": "2022-05-16T10:12:49.960044Z",
     "iopub.status.busy": "2022-05-16T10:12:49.959355Z",
     "iopub.status.idle": "2022-05-16T10:12:49.964008Z",
     "shell.execute_reply": "2022-05-16T10:12:49.963334Z"
    },
    "papermill": {
     "duration": 0.096655,
     "end_time": "2022-05-16T10:12:49.966077",
     "exception": false,
     "start_time": "2022-05-16T10:12:49.869422",
     "status": "completed"
    },
    "tags": []
   },
   "outputs": [],
   "source": [
    "#Return value for default loan (loss > 0) with 1\n",
    "def toLabels(train_y):\n",
    "    labels = np.zeros(len(train_y))\n",
    "    labels[train_y>0] = 1\n",
    "    return labels"
   ]
  },
  {
   "cell_type": "code",
   "execution_count": 41,
   "id": "40425b4b",
   "metadata": {
    "execution": {
     "iopub.execute_input": "2022-05-16T10:12:50.148387Z",
     "iopub.status.busy": "2022-05-16T10:12:50.148047Z",
     "iopub.status.idle": "2022-05-16T10:12:50.163801Z",
     "shell.execute_reply": "2022-05-16T10:12:50.163164Z"
    },
    "papermill": {
     "duration": 0.109272,
     "end_time": "2022-05-16T10:12:50.165708",
     "exception": false,
     "start_time": "2022-05-16T10:12:50.056436",
     "status": "completed"
    },
    "tags": []
   },
   "outputs": [
    {
     "data": {
      "text/plain": [
       "0.0    95688\n",
       "1.0     9783\n",
       "dtype: int64"
      ]
     },
     "execution_count": 41,
     "metadata": {},
     "output_type": "execute_result"
    }
   ],
   "source": [
    "#Only minority loans are default, the targets are imbalanced dataset\n",
    "labels = toLabels(train_y)\n",
    "pd.DataFrame(labels).value_counts()"
   ]
  },
  {
   "cell_type": "markdown",
   "id": "dca5ec79",
   "metadata": {
    "papermill": {
     "duration": 0.09038,
     "end_time": "2022-05-16T10:12:50.345946",
     "exception": false,
     "start_time": "2022-05-16T10:12:50.255566",
     "status": "completed"
    },
    "tags": []
   },
   "source": [
    "# Model"
   ]
  },
  {
   "cell_type": "markdown",
   "id": "c2098d2a",
   "metadata": {
    "papermill": {
     "duration": 0.108788,
     "end_time": "2022-05-16T10:12:50.564497",
     "exception": false,
     "start_time": "2022-05-16T10:12:50.455709",
     "status": "completed"
    },
    "tags": []
   },
   "source": [
    "## Loan default status classification"
   ]
  },
  {
   "cell_type": "code",
   "execution_count": 42,
   "id": "c9cb7b86",
   "metadata": {
    "execution": {
     "iopub.execute_input": "2022-05-16T10:12:50.757012Z",
     "iopub.status.busy": "2022-05-16T10:12:50.755941Z",
     "iopub.status.idle": "2022-05-16T10:12:51.597411Z",
     "shell.execute_reply": "2022-05-16T10:12:51.596492Z"
    },
    "papermill": {
     "duration": 0.93483,
     "end_time": "2022-05-16T10:12:51.600173",
     "exception": false,
     "start_time": "2022-05-16T10:12:50.665343",
     "status": "completed"
    },
    "tags": []
   },
   "outputs": [],
   "source": [
    "from sklearn.preprocessing import RobustScaler\n",
    "rs = RobustScaler()\n",
    "sc = rs.fit_transform(sub_x_Train_clf)"
   ]
  },
  {
   "cell_type": "markdown",
   "id": "5429cec1",
   "metadata": {
    "papermill": {
     "duration": 0.093958,
     "end_time": "2022-05-16T10:12:51.781761",
     "exception": false,
     "start_time": "2022-05-16T10:12:51.687803",
     "status": "completed"
    },
    "tags": []
   },
   "source": [
    "Dealing with Imbalanced target: https://towardsdatascience.com/working-with-highly-imbalanced-datasets-in-machine-learning-projects-c70c5f2a7b16\n",
    "\n",
    "However, attempt to give heavy weight to minority status for RF may result in poorer submission. Gradientboostingclassifier is preferred method in all case but it take extreme long time to train the model."
   ]
  },
  {
   "cell_type": "code",
   "execution_count": 43,
   "id": "e9fc78d5",
   "metadata": {
    "execution": {
     "iopub.execute_input": "2022-05-16T10:12:51.990152Z",
     "iopub.status.busy": "2022-05-16T10:12:51.989173Z",
     "iopub.status.idle": "2022-05-16T10:14:07.302880Z",
     "shell.execute_reply": "2022-05-16T10:14:07.301668Z"
    },
    "papermill": {
     "duration": 75.406596,
     "end_time": "2022-05-16T10:14:07.305788",
     "exception": false,
     "start_time": "2022-05-16T10:12:51.899192",
     "status": "completed"
    },
    "tags": []
   },
   "outputs": [],
   "source": [
    "# rc = RandomForestClassifier(class_weight={0:1,1:85},n_estimators=500,max_depth=7,n_jobs=-1,random_state=42)\n",
    "rc = RandomForestClassifier(n_estimators=145,max_depth=18,n_jobs=-1,random_state=42,min_samples_split=4)\n",
    "rc.fit(sc,labels)\n",
    "rc_pre = rc.predict(sc)"
   ]
  },
  {
   "cell_type": "code",
   "execution_count": 44,
   "id": "590f6e68",
   "metadata": {
    "execution": {
     "iopub.execute_input": "2022-05-16T10:14:07.490845Z",
     "iopub.status.busy": "2022-05-16T10:14:07.490422Z",
     "iopub.status.idle": "2022-05-16T10:14:07.494824Z",
     "shell.execute_reply": "2022-05-16T10:14:07.493801Z"
    },
    "papermill": {
     "duration": 0.101814,
     "end_time": "2022-05-16T10:14:07.497317",
     "exception": false,
     "start_time": "2022-05-16T10:14:07.395503",
     "status": "completed"
    },
    "tags": []
   },
   "outputs": [],
   "source": [
    "# from sklearn.model_selection import KFold\n",
    "\n",
    "# kfolds = KFold(n_splits=5, shuffle=True, random_state=42)\n",
    "\n",
    "# model = LogisticRegression(solver='sag',max_iter=10000,class_weight='balanced',random_state=42,n_jobs=-1)\n",
    "# params = {\"C\":[1,0.8,0.6,0.5,0.3],'penalty':['l1','l2']}\n",
    "\n",
    "# gs = GridSearchCV(model,param_grid=params,cv=kfolds)\n",
    "# gs.fit(sc,labels)\n",
    "# print(gs.best_score_)\n",
    "# print(gs.best_estimator_)"
   ]
  },
  {
   "cell_type": "code",
   "execution_count": 45,
   "id": "a3e95fb3",
   "metadata": {
    "execution": {
     "iopub.execute_input": "2022-05-16T10:14:07.681381Z",
     "iopub.status.busy": "2022-05-16T10:14:07.680556Z",
     "iopub.status.idle": "2022-05-16T10:14:07.701384Z",
     "shell.execute_reply": "2022-05-16T10:14:07.700280Z"
    },
    "papermill": {
     "duration": 0.114861,
     "end_time": "2022-05-16T10:14:07.703761",
     "exception": false,
     "start_time": "2022-05-16T10:14:07.588900",
     "status": "completed"
    },
    "tags": []
   },
   "outputs": [
    {
     "data": {
      "text/plain": [
       "0.999506973480862"
      ]
     },
     "execution_count": 45,
     "metadata": {},
     "output_type": "execute_result"
    }
   ],
   "source": [
    "from sklearn.metrics import accuracy_score\n",
    "accuracy_score(labels,rc_pre)"
   ]
  },
  {
   "cell_type": "markdown",
   "id": "e4c80b99",
   "metadata": {
    "papermill": {
     "duration": 0.088308,
     "end_time": "2022-05-16T10:14:07.884099",
     "exception": false,
     "start_time": "2022-05-16T10:14:07.795791",
     "status": "completed"
    },
    "tags": []
   },
   "source": [
    "The accuracy score of 99% hint that the model is overfitting, but it is sufficient for education purpose"
   ]
  },
  {
   "cell_type": "code",
   "execution_count": 46,
   "id": "20184ebc",
   "metadata": {
    "execution": {
     "iopub.execute_input": "2022-05-16T10:14:08.071200Z",
     "iopub.status.busy": "2022-05-16T10:14:08.070557Z",
     "iopub.status.idle": "2022-05-16T10:14:08.074629Z",
     "shell.execute_reply": "2022-05-16T10:14:08.073939Z"
    },
    "papermill": {
     "duration": 0.101283,
     "end_time": "2022-05-16T10:14:08.076709",
     "exception": false,
     "start_time": "2022-05-16T10:14:07.975426",
     "status": "completed"
    },
    "tags": []
   },
   "outputs": [],
   "source": [
    "# use gbm classifier to predict whether the loan defaults or not\n",
    "# gbc = GradientBoostingClassifier(n_estimators=3000, max_depth=8)\n",
    "# gbc.fit(sub_x_Train_clf, labels)"
   ]
  },
  {
   "cell_type": "code",
   "execution_count": 47,
   "id": "1f1fcfa3",
   "metadata": {
    "execution": {
     "iopub.execute_input": "2022-05-16T10:14:08.260424Z",
     "iopub.status.busy": "2022-05-16T10:14:08.259838Z",
     "iopub.status.idle": "2022-05-16T10:14:11.205899Z",
     "shell.execute_reply": "2022-05-16T10:14:11.204843Z"
    },
    "papermill": {
     "duration": 3.042242,
     "end_time": "2022-05-16T10:14:11.208862",
     "exception": false,
     "start_time": "2022-05-16T10:14:08.166620",
     "status": "completed"
    },
    "tags": []
   },
   "outputs": [],
   "source": [
    "sc_test = rs.transform(sub_x_Test_clf)\n",
    "pred_labels = rc.predict(sc_test)"
   ]
  },
  {
   "cell_type": "code",
   "execution_count": 48,
   "id": "e1ec5d83",
   "metadata": {
    "execution": {
     "iopub.execute_input": "2022-05-16T10:14:11.397472Z",
     "iopub.status.busy": "2022-05-16T10:14:11.396833Z",
     "iopub.status.idle": "2022-05-16T10:14:11.404283Z",
     "shell.execute_reply": "2022-05-16T10:14:11.403590Z"
    },
    "papermill": {
     "duration": 0.105607,
     "end_time": "2022-05-16T10:14:11.406403",
     "exception": false,
     "start_time": "2022-05-16T10:14:11.300796",
     "status": "completed"
    },
    "tags": []
   },
   "outputs": [
    {
     "data": {
      "text/plain": [
       "array([     3,      5,     12, ..., 210920, 210939, 210940])"
      ]
     },
     "execution_count": 48,
     "metadata": {},
     "output_type": "execute_result"
    }
   ],
   "source": [
    "#Obtain index where the test data is default loan\n",
    "ind_test = np.where(pred_labels==1)[0]\n",
    "ind_test"
   ]
  },
  {
   "cell_type": "code",
   "execution_count": 49,
   "id": "316f7f9d",
   "metadata": {
    "execution": {
     "iopub.execute_input": "2022-05-16T10:14:11.597502Z",
     "iopub.status.busy": "2022-05-16T10:14:11.596860Z",
     "iopub.status.idle": "2022-05-16T10:14:11.603853Z",
     "shell.execute_reply": "2022-05-16T10:14:11.603226Z"
    },
    "papermill": {
     "duration": 0.102453,
     "end_time": "2022-05-16T10:14:11.605766",
     "exception": false,
     "start_time": "2022-05-16T10:14:11.503313",
     "status": "completed"
    },
    "tags": []
   },
   "outputs": [
    {
     "data": {
      "text/plain": [
       "array([     7,     16,     26, ..., 105440, 105456, 105463])"
      ]
     },
     "execution_count": 49,
     "metadata": {},
     "output_type": "execute_result"
    }
   ],
   "source": [
    "#Obtain index where the train data is default loan\n",
    "ind_train = np.where(train_y > 0)[0]\n",
    "ind_train"
   ]
  },
  {
   "cell_type": "code",
   "execution_count": 50,
   "id": "b593a295",
   "metadata": {
    "execution": {
     "iopub.execute_input": "2022-05-16T10:14:11.791251Z",
     "iopub.status.busy": "2022-05-16T10:14:11.790620Z",
     "iopub.status.idle": "2022-05-16T10:14:11.799074Z",
     "shell.execute_reply": "2022-05-16T10:14:11.798077Z"
    },
    "papermill": {
     "duration": 0.103795,
     "end_time": "2022-05-16T10:14:11.801749",
     "exception": false,
     "start_time": "2022-05-16T10:14:11.697954",
     "status": "completed"
    },
    "tags": []
   },
   "outputs": [
    {
     "name": "stdout",
     "output_type": "stream",
     "text": [
      "95688\n",
      "178892\n"
     ]
    }
   ],
   "source": [
    "#Obtain index where loan is not default\n",
    "ind_train0 = np.where(train_y == 0)[0]\n",
    "print(len(ind_train0))\n",
    "ind_test0 = np.where(pred_labels==0)[0]\n",
    "print(len(ind_test0))"
   ]
  },
  {
   "cell_type": "markdown",
   "id": "bf5bfd4e",
   "metadata": {
    "papermill": {
     "duration": 0.094181,
     "end_time": "2022-05-16T10:14:11.989115",
     "exception": false,
     "start_time": "2022-05-16T10:14:11.894934",
     "status": "completed"
    },
    "tags": []
   },
   "source": [
    "## Loss Value Prediction"
   ]
  },
  {
   "cell_type": "markdown",
   "id": "545d1ca4",
   "metadata": {
    "papermill": {
     "duration": 0.091384,
     "end_time": "2022-05-16T10:14:12.173372",
     "exception": false,
     "start_time": "2022-05-16T10:14:12.081988",
     "status": "completed"
    },
    "tags": []
   },
   "source": [
    "### Support Vector Regression"
   ]
  },
  {
   "cell_type": "code",
   "execution_count": 51,
   "id": "ce4ce34f",
   "metadata": {
    "execution": {
     "iopub.execute_input": "2022-05-16T10:14:12.361968Z",
     "iopub.status.busy": "2022-05-16T10:14:12.361642Z",
     "iopub.status.idle": "2022-05-16T10:14:18.514766Z",
     "shell.execute_reply": "2022-05-16T10:14:18.513773Z"
    },
    "papermill": {
     "duration": 6.250811,
     "end_time": "2022-05-16T10:14:18.517524",
     "exception": false,
     "start_time": "2022-05-16T10:14:12.266713",
     "status": "completed"
    },
    "tags": []
   },
   "outputs": [],
   "source": [
    "#Only transform test data with predicted default status\n",
    "scaler = RobustScaler()\n",
    "sub_x_Train = scaler.fit_transform(sub_x_Train_pre)\n",
    "sub_x_Test_pre[ind_test] = scaler.transform(sub_x_Test_pre[ind_test])"
   ]
  },
  {
   "cell_type": "code",
   "execution_count": 52,
   "id": "fec3f3f4",
   "metadata": {
    "execution": {
     "iopub.execute_input": "2022-05-16T10:14:18.703301Z",
     "iopub.status.busy": "2022-05-16T10:14:18.702950Z",
     "iopub.status.idle": "2022-05-16T10:17:57.011074Z",
     "shell.execute_reply": "2022-05-16T10:17:57.009974Z"
    },
    "papermill": {
     "duration": 218.50124,
     "end_time": "2022-05-16T10:17:57.111254",
     "exception": false,
     "start_time": "2022-05-16T10:14:18.610014",
     "status": "completed"
    },
    "tags": []
   },
   "outputs": [
    {
     "data": {
      "text/plain": [
       "SVR(C=16, gamma=0.000122)"
      ]
     },
     "execution_count": 52,
     "metadata": {},
     "output_type": "execute_result"
    }
   ],
   "source": [
    "svr = SVR(C=16, kernel='rbf', gamma =  0.000122)\n",
    "svr.fit(sub_x_Train[ind_train], np.log(train_y[ind_train]))"
   ]
  },
  {
   "cell_type": "code",
   "execution_count": 53,
   "id": "cecdb295",
   "metadata": {
    "execution": {
     "iopub.execute_input": "2022-05-16T10:17:57.304485Z",
     "iopub.status.busy": "2022-05-16T10:17:57.303402Z",
     "iopub.status.idle": "2022-05-16T10:17:57.308129Z",
     "shell.execute_reply": "2022-05-16T10:17:57.307399Z"
    },
    "papermill": {
     "duration": 0.103822,
     "end_time": "2022-05-16T10:17:57.310203",
     "exception": false,
     "start_time": "2022-05-16T10:17:57.206381",
     "status": "completed"
    },
    "tags": []
   },
   "outputs": [],
   "source": [
    "from sklearn.metrics import mean_squared_log_error"
   ]
  },
  {
   "cell_type": "code",
   "execution_count": 54,
   "id": "9cc0fedd",
   "metadata": {
    "execution": {
     "iopub.execute_input": "2022-05-16T10:17:57.498440Z",
     "iopub.status.busy": "2022-05-16T10:17:57.497475Z",
     "iopub.status.idle": "2022-05-16T10:17:57.501449Z",
     "shell.execute_reply": "2022-05-16T10:17:57.500783Z"
    },
    "papermill": {
     "duration": 0.101083,
     "end_time": "2022-05-16T10:17:57.503353",
     "exception": false,
     "start_time": "2022-05-16T10:17:57.402270",
     "status": "completed"
    },
    "tags": []
   },
   "outputs": [],
   "source": [
    "#Evaluate model performance against train dataset, the score is 0.20\n",
    "\n",
    "# preds = svr.predict(sub_x_Train[ind_train])\n",
    "# preds_all = np.zeros(train_fs.shape[0])\n",
    "# preds_all[ind_train] = np.power(np.e, preds)\n",
    "# preds_all[ind_train0] = 0\n",
    "\n",
    "# mean_squared_log_error(train_y.values,preds_all)"
   ]
  },
  {
   "cell_type": "code",
   "execution_count": 55,
   "id": "e04bacbf",
   "metadata": {
    "execution": {
     "iopub.execute_input": "2022-05-16T10:17:57.689763Z",
     "iopub.status.busy": "2022-05-16T10:17:57.689221Z",
     "iopub.status.idle": "2022-05-16T10:24:18.510827Z",
     "shell.execute_reply": "2022-05-16T10:24:18.509769Z"
    },
    "papermill": {
     "duration": 381.012247,
     "end_time": "2022-05-16T10:24:18.607544",
     "exception": false,
     "start_time": "2022-05-16T10:17:57.595297",
     "status": "completed"
    },
    "tags": []
   },
   "outputs": [
    {
     "data": {
      "text/plain": [
       "array([0., 0., 0., ..., 0., 0., 0.])"
      ]
     },
     "execution_count": 55,
     "metadata": {},
     "output_type": "execute_result"
    }
   ],
   "source": [
    "#Generate Test prediction\n",
    "predict = svr.predict(sub_x_Test_pre[ind_test])\n",
    "prediction_svr = np.zeros(test_fs.shape[0])\n",
    "prediction_svr[ind_test] = np.power(np.e, predict)\n",
    "prediction_svr[ind_test0] = 0\n",
    "prediction_svr"
   ]
  },
  {
   "cell_type": "markdown",
   "id": "bee28e60",
   "metadata": {
    "papermill": {
     "duration": 0.095085,
     "end_time": "2022-05-16T10:24:18.795485",
     "exception": false,
     "start_time": "2022-05-16T10:24:18.700400",
     "status": "completed"
    },
    "tags": []
   },
   "source": [
    "### Linear Model\n",
    "\n",
    "Not adopted as it will return more than 5% prediction with extreme high loss (>100e), svr will not have this issue. Targeted loss value is discrete value"
   ]
  },
  {
   "cell_type": "code",
   "execution_count": 56,
   "id": "dce30b90",
   "metadata": {
    "execution": {
     "iopub.execute_input": "2022-05-16T10:24:18.984836Z",
     "iopub.status.busy": "2022-05-16T10:24:18.984423Z",
     "iopub.status.idle": "2022-05-16T10:24:18.988676Z",
     "shell.execute_reply": "2022-05-16T10:24:18.987826Z"
    },
    "papermill": {
     "duration": 0.101703,
     "end_time": "2022-05-16T10:24:18.990984",
     "exception": false,
     "start_time": "2022-05-16T10:24:18.889281",
     "status": "completed"
    },
    "tags": []
   },
   "outputs": [],
   "source": [
    "#Gridsearch method to find best param for Ridge Model, alpha 0.4\n",
    "# parameters = {'alpha':[1,0.8,0.6,0.4]}\n",
    "# clf = GridSearchCV(rg, parameters,n_jobs=-1, cv=5,verbose=1)\n",
    "# clf.fit(sub_x_Train[ind_train], np.log(train_y[ind_train]))\n",
    "# clf.best_params_\n",
    "# clf.best_score_"
   ]
  },
  {
   "cell_type": "markdown",
   "id": "708f91da",
   "metadata": {
    "papermill": {
     "duration": 0.11239,
     "end_time": "2022-05-16T10:24:19.219740",
     "exception": false,
     "start_time": "2022-05-16T10:24:19.107350",
     "status": "completed"
    },
    "tags": []
   },
   "source": [
    "### XG Boost Model"
   ]
  },
  {
   "cell_type": "code",
   "execution_count": 57,
   "id": "66c723cd",
   "metadata": {
    "execution": {
     "iopub.execute_input": "2022-05-16T10:24:19.413867Z",
     "iopub.status.busy": "2022-05-16T10:24:19.413479Z",
     "iopub.status.idle": "2022-05-16T10:24:19.557254Z",
     "shell.execute_reply": "2022-05-16T10:24:19.556204Z"
    },
    "papermill": {
     "duration": 0.242675,
     "end_time": "2022-05-16T10:24:19.560187",
     "exception": false,
     "start_time": "2022-05-16T10:24:19.317512",
     "status": "completed"
    },
    "tags": []
   },
   "outputs": [],
   "source": [
    "import xgboost as xgb\n",
    "from sklearn.model_selection import train_test_split\n",
    "\n",
    "params = {\"objective\": \"reg:linear\", # for linear regression\n",
    "          \"booster\" : \"gbtree\",   # use tree based models \n",
    "          \"eta\": 0.005,   # learning rate\n",
    "          \"max_depth\": 10,    # maximum depth of a tree\n",
    "          \"subsample\": 0.9,    # Subsample ratio of the training instances\n",
    "          \"colsample_bytree\": 0.7,   # Subsample ratio of columns when constructing each tree\n",
    "          \"silent\": 1,   # silent mode\n",
    "          \"seed\": 10   # Random number seed\n",
    "          }"
   ]
  },
  {
   "cell_type": "code",
   "execution_count": 58,
   "id": "86b792f5",
   "metadata": {
    "execution": {
     "iopub.execute_input": "2022-05-16T10:24:19.751325Z",
     "iopub.status.busy": "2022-05-16T10:24:19.750969Z",
     "iopub.status.idle": "2022-05-16T10:24:19.755277Z",
     "shell.execute_reply": "2022-05-16T10:24:19.754310Z"
    },
    "papermill": {
     "duration": 0.1014,
     "end_time": "2022-05-16T10:24:19.757429",
     "exception": false,
     "start_time": "2022-05-16T10:24:19.656029",
     "status": "completed"
    },
    "tags": []
   },
   "outputs": [],
   "source": [
    "#For validation purpose, Model stop validation at round 1749\n",
    "# num_boost_round = 4000\n",
    "\n",
    "# dtrain_x, dtest_x, dtrain_y, dtest_y = train_test_split(sub_x_Train[ind_train],np.log(train_y[ind_train]),test_size=0.2,random_state=42)\n",
    "# dtrain = xgb.DMatrix(dtrain_x, dtrain_y)\n",
    "# dvalid = xgb.DMatrix(dtest_x, dtest_y)\n",
    "# watchlist = [(dtrain, 'train'), (dvalid, 'eval')]\n",
    "# # train the xgboost model\n",
    "# model = xgb.train(params, dtrain, num_boost_round, evals=watchlist, early_stopping_rounds= 10, verbose_eval=True)"
   ]
  },
  {
   "cell_type": "code",
   "execution_count": 59,
   "id": "1a49b2d5",
   "metadata": {
    "execution": {
     "iopub.execute_input": "2022-05-16T10:24:19.952365Z",
     "iopub.status.busy": "2022-05-16T10:24:19.951982Z",
     "iopub.status.idle": "2022-05-16T10:52:51.889135Z",
     "shell.execute_reply": "2022-05-16T10:52:51.887909Z"
    },
    "papermill": {
     "duration": 1712.039729,
     "end_time": "2022-05-16T10:52:51.892242",
     "exception": false,
     "start_time": "2022-05-16T10:24:19.852513",
     "status": "completed"
    },
    "tags": []
   },
   "outputs": [
    {
     "name": "stdout",
     "output_type": "stream",
     "text": [
      "[10:24:20] WARNING: ../src/objective/regression_obj.cu:203: reg:linear is now deprecated in favor of reg:squarederror.\n",
      "[10:24:20] WARNING: ../src/learner.cc:627: \n",
      "Parameters: { \"silent\" } might not be used.\n",
      "\n",
      "  This could be a false alarm, with some parameters getting used by language bindings but\n",
      "  then being mistakenly passed down to XGBoost core, or some parameter actually being used\n",
      "  but getting flagged wrongly here. Please open an issue if you find any such cases.\n",
      "\n",
      "\n"
     ]
    }
   ],
   "source": [
    "num_boost_round = 1749\n",
    "\n",
    "dtrain = xgb.DMatrix(sub_x_Train[ind_train],np.log(train_y[ind_train]))\n",
    "\n",
    "model = xgb.train(params, dtrain, num_boost_round)"
   ]
  },
  {
   "cell_type": "code",
   "execution_count": 60,
   "id": "6bb42369",
   "metadata": {
    "execution": {
     "iopub.execute_input": "2022-05-16T10:52:52.087286Z",
     "iopub.status.busy": "2022-05-16T10:52:52.086617Z",
     "iopub.status.idle": "2022-05-16T10:52:52.090749Z",
     "shell.execute_reply": "2022-05-16T10:52:52.090124Z"
    },
    "papermill": {
     "duration": 0.103181,
     "end_time": "2022-05-16T10:52:52.092590",
     "exception": false,
     "start_time": "2022-05-16T10:52:51.989409",
     "status": "completed"
    },
    "tags": []
   },
   "outputs": [],
   "source": [
    "#Evaluate overall performance\n",
    "# dtrain_check = xgb.DMatrix(sub_x_Train[ind_train])\n",
    "# preds_xg = model.predict(dtrain_check)\n",
    "# preds_all_xg = np.zeros(train_fs.shape[0])\n",
    "# preds_all_xg[ind_train] = np.power(np.e, preds_xg)\n",
    "# preds_all_xg[ind_train0] = 0\n",
    "# mean_squared_log_error(train_y.values,preds_all_xg)"
   ]
  },
  {
   "cell_type": "code",
   "execution_count": 61,
   "id": "ba577149",
   "metadata": {
    "execution": {
     "iopub.execute_input": "2022-05-16T10:52:52.287403Z",
     "iopub.status.busy": "2022-05-16T10:52:52.286784Z",
     "iopub.status.idle": "2022-05-16T10:52:55.840948Z",
     "shell.execute_reply": "2022-05-16T10:52:55.839969Z"
    },
    "papermill": {
     "duration": 3.654592,
     "end_time": "2022-05-16T10:52:55.843406",
     "exception": false,
     "start_time": "2022-05-16T10:52:52.188814",
     "status": "completed"
    },
    "tags": []
   },
   "outputs": [
    {
     "data": {
      "text/html": [
       "<div>\n",
       "<style scoped>\n",
       "    .dataframe tbody tr th:only-of-type {\n",
       "        vertical-align: middle;\n",
       "    }\n",
       "\n",
       "    .dataframe tbody tr th {\n",
       "        vertical-align: top;\n",
       "    }\n",
       "\n",
       "    .dataframe thead th {\n",
       "        text-align: right;\n",
       "    }\n",
       "</style>\n",
       "<table border=\"1\" class=\"dataframe\">\n",
       "  <thead>\n",
       "    <tr style=\"text-align: right;\">\n",
       "      <th></th>\n",
       "      <th>0</th>\n",
       "    </tr>\n",
       "  </thead>\n",
       "  <tbody>\n",
       "    <tr>\n",
       "      <th>count</th>\n",
       "      <td>210944.000000</td>\n",
       "    </tr>\n",
       "    <tr>\n",
       "      <th>mean</th>\n",
       "      <td>1.000578</td>\n",
       "    </tr>\n",
       "    <tr>\n",
       "      <th>std</th>\n",
       "      <td>2.644043</td>\n",
       "    </tr>\n",
       "    <tr>\n",
       "      <th>min</th>\n",
       "      <td>0.000000</td>\n",
       "    </tr>\n",
       "    <tr>\n",
       "      <th>25%</th>\n",
       "      <td>0.000000</td>\n",
       "    </tr>\n",
       "    <tr>\n",
       "      <th>50%</th>\n",
       "      <td>0.000000</td>\n",
       "    </tr>\n",
       "    <tr>\n",
       "      <th>75%</th>\n",
       "      <td>0.000000</td>\n",
       "    </tr>\n",
       "    <tr>\n",
       "      <th>max</th>\n",
       "      <td>48.173100</td>\n",
       "    </tr>\n",
       "  </tbody>\n",
       "</table>\n",
       "</div>"
      ],
      "text/plain": [
       "                   0\n",
       "count  210944.000000\n",
       "mean        1.000578\n",
       "std         2.644043\n",
       "min         0.000000\n",
       "25%         0.000000\n",
       "50%         0.000000\n",
       "75%         0.000000\n",
       "max        48.173100"
      ]
     },
     "execution_count": 61,
     "metadata": {},
     "output_type": "execute_result"
    }
   ],
   "source": [
    "#Generate Test prediction\n",
    "test_Dmatrix = xgb.DMatrix(sub_x_Test_pre[ind_test])\n",
    "predict = model.predict(test_Dmatrix)\n",
    "prediction_xg = np.zeros(test_fs.shape[0])\n",
    "prediction_xg[ind_test] = np.power(np.e, predict)\n",
    "prediction_xg[ind_test0] = 0\n",
    "pd.DataFrame(prediction_xg).describe()"
   ]
  },
  {
   "cell_type": "markdown",
   "id": "d44d8bda",
   "metadata": {
    "papermill": {
     "duration": 0.097188,
     "end_time": "2022-05-16T10:52:56.039628",
     "exception": false,
     "start_time": "2022-05-16T10:52:55.942440",
     "status": "completed"
    },
    "tags": []
   },
   "source": [
    "### Gradient Boosting Regressor\n",
    "\n",
    "Not adopted due to extreme long training time with large features"
   ]
  },
  {
   "cell_type": "code",
   "execution_count": 62,
   "id": "4c7a00a3",
   "metadata": {
    "execution": {
     "iopub.execute_input": "2022-05-16T10:52:56.236633Z",
     "iopub.status.busy": "2022-05-16T10:52:56.235530Z",
     "iopub.status.idle": "2022-05-16T10:52:56.239604Z",
     "shell.execute_reply": "2022-05-16T10:52:56.238845Z"
    },
    "papermill": {
     "duration": 0.105743,
     "end_time": "2022-05-16T10:52:56.241814",
     "exception": false,
     "start_time": "2022-05-16T10:52:56.136071",
     "status": "completed"
    },
    "tags": []
   },
   "outputs": [],
   "source": [
    "# gbr1000 = GradientBoostingRegressor(n_estimators=1300, max_depth=4, subsample=0.5, learning_rate=0.05)\n",
    "# gbr1000.fit(sub_x_Train[ind_train], np.log(train_y[ind_train]))"
   ]
  },
  {
   "cell_type": "markdown",
   "id": "76932ffc",
   "metadata": {
    "papermill": {
     "duration": 0.095193,
     "end_time": "2022-05-16T10:52:56.432680",
     "exception": false,
     "start_time": "2022-05-16T10:52:56.337487",
     "status": "completed"
    },
    "tags": []
   },
   "source": [
    "## Final Prediction"
   ]
  },
  {
   "cell_type": "code",
   "execution_count": 63,
   "id": "33173d36",
   "metadata": {
    "execution": {
     "iopub.execute_input": "2022-05-16T10:52:56.625221Z",
     "iopub.status.busy": "2022-05-16T10:52:56.624321Z",
     "iopub.status.idle": "2022-05-16T10:52:56.876258Z",
     "shell.execute_reply": "2022-05-16T10:52:56.875308Z"
    },
    "papermill": {
     "duration": 0.350244,
     "end_time": "2022-05-16T10:52:56.878444",
     "exception": false,
     "start_time": "2022-05-16T10:52:56.528200",
     "status": "completed"
    },
    "tags": []
   },
   "outputs": [
    {
     "data": {
      "image/png": "[encoded data removed]",
      "text/plain": [
       "<Figure size 432x288 with 1 Axes>"
      ]
     },
     "metadata": {
      "needs_background": "light"
     },
     "output_type": "display_data"
    },
    {
     "data": {
      "text/html": [
       "<div>\n",
       "<style scoped>\n",
       "    .dataframe tbody tr th:only-of-type {\n",
       "        vertical-align: middle;\n",
       "    }\n",
       "\n",
       "    .dataframe tbody tr th {\n",
       "        vertical-align: top;\n",
       "    }\n",
       "\n",
       "    .dataframe thead th {\n",
       "        text-align: right;\n",
       "    }\n",
       "</style>\n",
       "<table border=\"1\" class=\"dataframe\">\n",
       "  <thead>\n",
       "    <tr style=\"text-align: right;\">\n",
       "      <th></th>\n",
       "      <th>0</th>\n",
       "    </tr>\n",
       "  </thead>\n",
       "  <tbody>\n",
       "    <tr>\n",
       "      <th>count</th>\n",
       "      <td>210944.000000</td>\n",
       "    </tr>\n",
       "    <tr>\n",
       "      <th>mean</th>\n",
       "      <td>0.905795</td>\n",
       "    </tr>\n",
       "    <tr>\n",
       "      <th>std</th>\n",
       "      <td>2.376017</td>\n",
       "    </tr>\n",
       "    <tr>\n",
       "      <th>min</th>\n",
       "      <td>0.000000</td>\n",
       "    </tr>\n",
       "    <tr>\n",
       "      <th>25%</th>\n",
       "      <td>0.000000</td>\n",
       "    </tr>\n",
       "    <tr>\n",
       "      <th>50%</th>\n",
       "      <td>0.000000</td>\n",
       "    </tr>\n",
       "    <tr>\n",
       "      <th>75%</th>\n",
       "      <td>0.000000</td>\n",
       "    </tr>\n",
       "    <tr>\n",
       "      <th>max</th>\n",
       "      <td>75.100529</td>\n",
       "    </tr>\n",
       "  </tbody>\n",
       "</table>\n",
       "</div>"
      ],
      "text/plain": [
       "                   0\n",
       "count  210944.000000\n",
       "mean        0.905795\n",
       "std         2.376017\n",
       "min         0.000000\n",
       "25%         0.000000\n",
       "50%         0.000000\n",
       "75%         0.000000\n",
       "max        75.100529"
      ]
     },
     "execution_count": 63,
     "metadata": {},
     "output_type": "execute_result"
    }
   ],
   "source": [
    "pred_all = prediction_xg * 0.5 + prediction_svr * 0.5\n",
    "fig , ax = plt.subplots()\n",
    "plt.hist(pred_all, bins = 20, range=(0,100))\n",
    "ax.set_ylim([0,3000])\n",
    "plt.show()        \n",
    "        \n",
    "pd.DataFrame(pred_all).describe()"
   ]
  },
  {
   "cell_type": "markdown",
   "id": "682bc81d",
   "metadata": {
    "papermill": {
     "duration": 0.100332,
     "end_time": "2022-05-16T10:52:57.077114",
     "exception": false,
     "start_time": "2022-05-16T10:52:56.976782",
     "status": "completed"
    },
    "tags": []
   },
   "source": [
    "# Submission"
   ]
  },
  {
   "cell_type": "code",
   "execution_count": 64,
   "id": "a9b10460",
   "metadata": {
    "execution": {
     "iopub.execute_input": "2022-05-16T10:52:57.276885Z",
     "iopub.status.busy": "2022-05-16T10:52:57.276531Z",
     "iopub.status.idle": "2022-05-16T10:52:57.282959Z",
     "shell.execute_reply": "2022-05-16T10:52:57.282099Z"
    },
    "papermill": {
     "duration": 0.108898,
     "end_time": "2022-05-16T10:52:57.285018",
     "exception": false,
     "start_time": "2022-05-16T10:52:57.176120",
     "status": "completed"
    },
    "tags": []
   },
   "outputs": [],
   "source": [
    "test_fs['loss'] = pred_all"
   ]
  },
  {
   "cell_type": "code",
   "execution_count": 65,
   "id": "bf3b5f97",
   "metadata": {
    "execution": {
     "iopub.execute_input": "2022-05-16T10:52:57.483038Z",
     "iopub.status.busy": "2022-05-16T10:52:57.482330Z",
     "iopub.status.idle": "2022-05-16T10:53:00.036478Z",
     "shell.execute_reply": "2022-05-16T10:53:00.035380Z"
    },
    "papermill": {
     "duration": 2.657637,
     "end_time": "2022-05-16T10:53:00.039499",
     "exception": false,
     "start_time": "2022-05-16T10:52:57.381862",
     "status": "completed"
    },
    "tags": []
   },
   "outputs": [],
   "source": [
    "sample_submission = test_fs[['id','loss']]\n",
    "sample_submission.to_csv('sample_submission_rf.csv', index = False)"
   ]
  },
  {
   "cell_type": "markdown",
   "id": "cfedcfbc",
   "metadata": {
    "papermill": {
     "duration": 0.109676,
     "end_time": "2022-05-16T10:53:00.262108",
     "exception": false,
     "start_time": "2022-05-16T10:53:00.152432",
     "status": "completed"
    },
    "tags": []
   },
   "source": [
    "**References:**\n",
    "\n",
    "Feature Engineering & Models (Main): https://github.com/freedomljc/Loan_Default_Prediction\n",
    "\n",
    "Data Preprocessing: https://www.kaggle.com/code/kittiyaneerungon/loan-default-prediction\n",
    "\n",
    "Further Study (Winner solution R & Pdf): https://www.kaggle.com/competitions/loan-default-prediction/discussion/7398#41007\n",
    "\n",
    "Other good solution: https://github.com/dmcgarry/Default_Loan_Prediction"
   ]
  }
 ],
 "metadata": {
  "kernelspec": {
   "display_name": "Python 3 (ipykernel)",
   "language": "python",
   "name": "python3"
  },
  "language_info": {
   "codemirror_mode": {
    "name": "ipython",
    "version": 3
   },
   "file_extension": ".py",
   "mimetype": "text/x-python",
   "name": "python",
   "nbconvert_exporter": "python",
   "pygments_lexer": "ipython3",
   "version": "3.9.12"
  },
  "papermill": {
   "default_parameters": {},
   "duration": 3124.750473,
   "end_time": "2022-05-16T10:53:03.117813",
   "environment_variables": {},
   "exception": null,
   "input_path": "__notebook__.ipynb",
   "output_path": "__notebook__.ipynb",
   "parameters": {},
   "start_time": "2022-05-16T10:00:58.367340",
   "version": "2.3.4"
  }
 },
 "nbformat": 4,
 "nbformat_minor": 5
}
